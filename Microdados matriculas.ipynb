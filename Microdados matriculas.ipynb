{
 "cells": [
  {
   "cell_type": "markdown",
   "id": "4edc0bf9",
   "metadata": {},
   "source": [
    "# Visualização dos microdados das matriculas da rede municipal de educação do município de SP"
   ]
  },
  {
   "cell_type": "code",
   "execution_count": 26,
   "metadata": {},
   "outputs": [],
   "source": [
    "import pandas as pd\n",
    "import numpy as np\n",
    "import matplotlib.pyplot as plt\n",
    "import seaborn as sns\n",
    "import plotly.express as px\n",
    "import plotly.graph_objects as go\n",
    "from wordcloud import WordCloud, STOPWORDS\n",
    "from PIL import Image\n",
    "\n",
    "sns.set(rc={'figure.figsize':(20,10)})"
   ]
  },
  {
   "cell_type": "code",
   "execution_count": 27,
   "id": "192a922a",
   "metadata": {
    "scrolled": true
   },
   "outputs": [
    {
     "name": "stdout",
     "output_type": "stream",
     "text": [
      "Ano:  2019 \n",
      "Tamanho tabela sem o processamento:  (1809796, 95)\n",
      "Tamanho tabela com o processamento:  (1269282, 59)\n",
      "\n",
      "Ano:  2018 \n",
      "Tamanho tabela sem o processamento:  (1756527, 95)\n",
      "Tamanho tabela com o processamento:  (1262767, 59)\n",
      "\n"
     ]
    },
    {
     "name": "stderr",
     "output_type": "stream",
     "text": [
      "C:\\ferramentass\\Python3.9\\lib\\site-packages\\IPython\\core\\interactiveshell.py:3441: DtypeWarning:\n",
      "\n",
      "Columns (20,22,24,28,95) have mixed types.Specify dtype option on import or set low_memory=False.\n",
      "\n"
     ]
    },
    {
     "name": "stdout",
     "output_type": "stream",
     "text": [
      "Ano:  2017 \n",
      "Tamanho tabela sem o processamento:  (1722560, 96)\n",
      "Tamanho tabela com o processamento:  (1203139, 59)\n",
      "\n"
     ]
    },
    {
     "name": "stderr",
     "output_type": "stream",
     "text": [
      "C:\\ferramentass\\Python3.9\\lib\\site-packages\\IPython\\core\\interactiveshell.py:3441: DtypeWarning:\n",
      "\n",
      "Columns (28) have mixed types.Specify dtype option on import or set low_memory=False.\n",
      "\n"
     ]
    },
    {
     "name": "stdout",
     "output_type": "stream",
     "text": [
      "Ano:  2016 \n",
      "Tamanho tabela sem o processamento:  (1651243, 96)\n",
      "Tamanho tabela com o processamento:  (1181535, 59)\n",
      "\n",
      "Ano:  2015 \n",
      "Tamanho tabela sem o processamento:  (1588623, 96)\n",
      "Tamanho tabela com o processamento:  (1135913, 59)\n",
      "\n"
     ]
    },
    {
     "name": "stderr",
     "output_type": "stream",
     "text": [
      "C:\\ferramentass\\Python3.9\\lib\\site-packages\\IPython\\core\\interactiveshell.py:3441: DtypeWarning:\n",
      "\n",
      "Columns (28,32) have mixed types.Specify dtype option on import or set low_memory=False.\n",
      "\n"
     ]
    },
    {
     "name": "stdout",
     "output_type": "stream",
     "text": [
      "Ano:  2014 \n",
      "Tamanho tabela sem o processamento:  (1496726, 96)\n",
      "Tamanho tabela com o processamento:  (1108512, 59)\n",
      "\n",
      "Ano:  2013 \n",
      "Tamanho tabela sem o processamento:  (1937973, 96)\n",
      "Tamanho tabela com o processamento:  (1121412, 59)\n",
      "\n",
      "Ano:  2012 \n",
      "Tamanho tabela sem o processamento:  (1959572, 96)\n",
      "Tamanho tabela com o processamento:  (1122511, 59)\n",
      "\n"
     ]
    }
   ],
   "source": [
    "# anos = ['2020', '2019', '2018', '2017', '2016', '2015', '2014', '2013', '2012']\n",
    "anos = ['2019', '2018', '2017', '2016', '2015', '2014', '2013', '2012']\n",
    "tam = 1000\n",
    "\n",
    "for i, ano in enumerate(anos):\n",
    "    if ano == '2020' or ano == '2019':\n",
    "        tabela = pd.read_csv('data/Microdados_EOL_Matriculas_Ano_' + ano + '.csv', encoding = \"ISO-8859-1\", sep = ';')\n",
    "        # tabela = pd.read_csv('data/Microdados_EOL_Matriculas_Ano_' + ano + '.csv', encoding = \"ISO-8859-1\", sep = ';', chunksize = tam)\n",
    "    else:\n",
    "        tabela = pd.read_csv('data/Microdados_EOL_Matriculas_Ano_' + ano + '.csv', encoding = \"ISO-8859-1\", sep = '|')\n",
    "        # tabela = pd.read_csv('data/Microdados_EOL_Matriculas_Ano_' + ano + '.csv', encoding = \"ISO-8859-1\", sep = '|', chunksize = tam)\n",
    "\n",
    "    # for chunk in tabela:\n",
    "    #     y = pd.DataFrame(chunk)\n",
    "    #     break\n",
    "    \n",
    "    y = pd.DataFrame(tabela)\n",
    "    print('Ano: ', ano, '\\nTamanho tabela sem o processamento: ', y.shape)\n",
    "\n",
    "    # Limpeza dados\n",
    "    if 'CD_INEP_ALUNO' not in y.columns:\n",
    "        y['CD_INEP_ALUNO'] = ''\n",
    "\n",
    "    if 'Hora_Inicio' not in y.columns:\n",
    "        y['Hora_Inicio'] = ''\n",
    "\n",
    "    if 'DEF_AUTISMO' in y.columns:\n",
    "        y = y.rename(columns={'DEF_AUTISMO': 'DEF__AUTISMO'})\n",
    "\n",
    "    if 'DEF_SURDEZ_LEVE' in y.columns:\n",
    "        y = y.rename(columns={'DEF_SURDEZ_LEVE': 'DEF__SURDEZ_LEVE'})\n",
    "\n",
    "    if 'DEF_SURDEZ_SEV' in y.columns:\n",
    "        y = y.rename(columns={'DEF_SURDEZ_SEV': 'DEF__SURDEZ_SEV'})\n",
    "\n",
    "    if 'DEF_INTELECT' in y.columns:\n",
    "        y = y.rename(columns={'DEF_INTELECT': 'DEF__INTELECT'})\n",
    "\n",
    "    if 'DEF_MULTIPLA' in y.columns:\n",
    "        y = y.rename(columns={'DEF_MULTIPLA': 'DEF__MULTIPLA'})\n",
    "\n",
    "    if 'DEF_CEGUEIRA' in y.columns:\n",
    "        y = y.rename(columns={'DEF_CEGUEIRA': 'DEF__CEGUEIRA'})\n",
    "\n",
    "    if 'DEF_BAIXA_VISAO' in y.columns:\n",
    "        y = y.rename(columns={'DEF_BAIXA_VISAO': 'DEF__BAIXA_VISAO'})\n",
    "\n",
    "    if 'DEF_SURDO_CEG' in y.columns:\n",
    "        y = y.rename(columns={'DEF_SURDO_CEG': 'DEF__SURDO_CEG'})\n",
    "\n",
    "    if 'DEF_TRANST_DES_INF' in y.columns:\n",
    "        y = y.rename(columns={'DEF_TRANST_DES_INF': 'DEF__TRANST_DES_INF'})\n",
    "\n",
    "    if 'DEF_SINDR_ASPER' in y.columns:\n",
    "        y = y.rename(columns={'DEF_SINDR_ASPER': 'DEF__SINDR_ASPER'})\n",
    "\n",
    "    if 'DEF_SINDR_RETT' in y.columns:\n",
    "        y = y.rename(columns={'DEF_SINDR_RETT': 'DEF__SINDR_RETT'})\n",
    "\n",
    "    if 'DEF_FIS_N_CADEIR' in y.columns:\n",
    "        y = y.rename(columns={'DEF_FIS_N_CADEIR': 'DEF__FIS_N_CADEIR'})\n",
    "\n",
    "    if 'DEF_FIS_CADEIR' in y.columns:\n",
    "        y = y.rename(columns={'DEF_FIS_CADEIR': 'DEF__FIS_CADEIR'})\n",
    "\n",
    "    if 'DEF_N_POSSUI' in y.columns:\n",
    "        y = y.rename(columns={'DEF_N_POSSUI': 'DEF__N_POSSUI'})\n",
    "\n",
    "    labelsDeficiencia = ['NEE_ALT_HAB', 'DEF__AUTISMO', 'DEF__SURDEZ_LEVE', 'DEF__SURDEZ_SEV', 'DEF__INTELECT', 'DEF__MULTIPLA', 'DEF__CEGUEIRA', 'DEF__BAIXA_VISAO', 'DEF__SURDO_CEG', 'DEF__TRANST_DES_INF', 'DEF__SINDR_ASPER', 'DEF__SINDR_RETT', 'DEF__FIS_N_CADEIR', 'DEF__FIS_CADEIR', 'DEF__N_POSSUI']\n",
    "    \n",
    "    for label in labelsDeficiencia:\n",
    "        y[label] = pd.to_numeric(y[label], errors=\"coerce\")\n",
    "\n",
    "    if ano == '2020':\n",
    "        for idadeReal in y['IDADE_ALUNO_ANO_CIVIL'].unique():\n",
    "            y.loc[y['IDADE_ALUNO_ANO_CIVIL'] == idadeReal, 'IDADE_ALUNO_ANO_CIVIL'] = int(idadeReal.split(',')[0])\n",
    "    else:\n",
    "        y['IDADE_ALUNO_ANO_CIVIL'] = pd.to_numeric(y['IDADE_ALUNO_ANO_CIVIL'], errors=\"coerce\")\n",
    "\n",
    "    y['IDADE_ALUNO_ANO_CIVIL'] = pd.to_numeric(y['IDADE_ALUNO_ANO_CIVIL'], errors=\"coerce\")\n",
    "\n",
    "    y['[0-3]'] = 0\n",
    "    y['[3-6]'] = 0\n",
    "    y['[6-9]'] = 0\n",
    "    y['[9-12]'] = 0\n",
    "    y['[12-15]'] = 0\n",
    "    y['[15-18]'] = 0\n",
    "    y['[18+]'] = 0\n",
    "\n",
    "    y.loc[y['IDADE_ALUNO_ANO_CIVIL'] <= 3, '[0-3]'] = 1\n",
    "    y.loc[(y['IDADE_ALUNO_ANO_CIVIL'] > 3) & (y['IDADE_ALUNO_ANO_CIVIL'] <= 6), '[3-6]'] = 1\n",
    "    y.loc[(y['IDADE_ALUNO_ANO_CIVIL'] > 6) & (y['IDADE_ALUNO_ANO_CIVIL'] <= 9), '[6-9]'] = 1\n",
    "    y.loc[(y['IDADE_ALUNO_ANO_CIVIL'] > 9) & (y['IDADE_ALUNO_ANO_CIVIL'] <= 12), '[9-12]'] = 1\n",
    "    y.loc[(y['IDADE_ALUNO_ANO_CIVIL'] > 12) & (y['IDADE_ALUNO_ANO_CIVIL'] <= 15), '[12-15]'] = 1\n",
    "    y.loc[(y['IDADE_ALUNO_ANO_CIVIL'] > 15) & (y['IDADE_ALUNO_ANO_CIVIL'] <= 18), '[15-18]'] = 1\n",
    "    y.loc[y['IDADE_ALUNO_ANO_CIVIL'] > 18, '[18+]'] = 1\n",
    "\n",
    "    y.loc[y['DESC_CICLO_ENSINO'].isnull(), 'DESC_CICLO_ENSINO'] = 'NAO INFORMADO'\n",
    "\n",
    "    y = y.drop_duplicates(subset='CD_ALUNO_SME')\n",
    "\n",
    "    y = y.drop(columns=['DESC_TIPO_PROGRAMA', 'CD_INEP_ALUNO', 'CD_PARECER_CONCL_FIN', 'DESC_PARECER_CONCL_FIN', 'DESC_TIPO_PROGRAMA', 'Hora_Inicio', 'CD_UNIDADE_EDUCACAO', 'NOME_DISTRITO', 'CD_SETOR', 'TIPO_ESCOLA', 'DRE', 'CD_INEP_ESCOLA', 'SITUACAO_ESCOLA', 'DESC_TURNO', 'DESC_SERIE', 'MODALIDADE', 'MODALIDADE_SEGMENTO', 'TURMA_ESCOL', 'NOME_TURMA', 'HORA_IN_TURMA', 'HORA_FIM_TURMA', 'DESC_PERIODICIDADE_TURMA', 'DESC_ETAPA_ENSINO', 'DESC_CICLO_ENSINO', 'DESC_TIPO_TURMA', 'DESC_TIPO_PROGRAMA', 'DUR_DIA_TURMA', 'DUR_DIA_HORA', 'DUR_DIA_MIN', 'DUR_SEMAN_TURMA', 'DUR_SEM_HORA', 'DUR_SEM_MIN', 'QTD_DIAS_SEMAN_TURMA', 'X_SEMANA', 'SEG', 'TER', 'QUA', 'SEX', 'SAB', 'DOM', 'CD_INEP_ALUNO', 'DESC_RACA_COR', 'CD_PAIS_NASC', 'DESC_PAIS_NASC', 'CD_MUN_NASC', 'DESC_MUN_NASC', 'DESC_UF_NASC', 'ANO_SIT_MAT'])\n",
    "\n",
    "    y = y.dropna(how=\"any\", axis=0)\n",
    "    \n",
    "    print('Tamanho tabela com o processamento: ', y.shape, end='\\n\\n')\n",
    "\n",
    "    if i == 0:\n",
    "        y.to_csv('data/Matriculas.csv', sep=';', index=False, line_terminator='')\n",
    "    else:\n",
    "        y.to_csv('data/Matriculas.csv', sep=';', index=False, line_terminator='', mode='a', header=False)"
   ]
  },
  {
   "cell_type": "code",
   "execution_count": 28,
   "id": "20b09f2b",
   "metadata": {},
   "outputs": [
    {
     "name": "stdout",
     "output_type": "stream",
     "text": [
      "Tamanho tabela:  (9405071, 59)\n"
     ]
    }
   ],
   "source": [
    "tabela = pd.read_csv('data/Matriculas.csv', encoding = \"ISO-8859-1\", sep = ';')\n",
    "y = pd.DataFrame(tabela)\n",
    "print('Tamanho tabela: ', y.shape)"
   ]
  },
  {
   "cell_type": "code",
   "execution_count": 29,
   "id": "8b66dc19",
   "metadata": {},
   "outputs": [
    {
     "data": {
      "image/png": "[encoded data removed]",
      "text/plain": [
       "<Figure size 1440x720 with 1 Axes>"
      ]
     },
     "metadata": {},
     "output_type": "display_data"
    }
   ],
   "source": [
    "mask = np.array(Image.open('img/sp.png'))\n",
    "\n",
    "def saveImage(text, ano, width=1980, height=1080):\n",
    "    wc = WordCloud(stopwords=STOPWORDS,\n",
    "               mask=mask, background_color=\"black\",\n",
    "               max_words=2000, max_font_size=256,\n",
    "               random_state=42, width=mask.shape[1],\n",
    "               height=mask.shape[0])\n",
    "    wc.generate(text)\n",
    "    plt.imshow(wc, interpolation=\"bilinear\")\n",
    "    plt.axis('off')\n",
    "    plt.show()\n",
    "    wc.to_file('wordcloud_' + ano + '.png')\n",
    "\n",
    "saveImage(' '.join(y['NOME_ESCOLA'].to_list()), 'geral')"
   ]
  },
  {
   "cell_type": "code",
   "execution_count": 30,
   "id": "67a47ce1",
   "metadata": {},
   "outputs": [
    {
     "data": {
      "application/vnd.plotly.v1+json": {
       "config": {
        "plotlyServerURL": "https://plot.ly"
       },
       "data": [
        {
         "hole": 0.3,
         "labels": [
          "Aprovados",
          "Reprovados",
          "Abandono",
          "Concluintes",
          "Transferidos",
          "Falecidos",
          "Não comparecidos",
          "Excluido",
          "Cessado",
          "Remanejado",
          "Reclassificado",
          "Ativo"
         ],
         "type": "pie",
         "values": [
          2632661,
          209182,
          786539,
          4560240,
          612738,
          1308,
          79136,
          186922,
          114183,
          127795,
          18417,
          76132
         ]
        }
       ],
       "layout": {
        "template": {
         "data": {
          "bar": [
           {
            "error_x": {
             "color": "#2a3f5f"
            },
            "error_y": {
             "color": "#2a3f5f"
            },
            "marker": {
             "line": {
              "color": "#E5ECF6",
              "width": 0.5
             },
             "pattern": {
              "fillmode": "overlay",
              "size": 10,
              "solidity": 0.2
             }
            },
            "type": "bar"
           }
          ],
          "barpolar": [
           {
            "marker": {
             "line": {
              "color": "#E5ECF6",
              "width": 0.5
             },
             "pattern": {
              "fillmode": "overlay",
              "size": 10,
              "solidity": 0.2
             }
            },
            "type": "barpolar"
           }
          ],
          "carpet": [
           {
            "aaxis": {
             "endlinecolor": "#2a3f5f",
             "gridcolor": "white",
             "linecolor": "white",
             "minorgridcolor": "white",
             "startlinecolor": "#2a3f5f"
            },
            "baxis": {
             "endlinecolor": "#2a3f5f",
             "gridcolor": "white",
             "linecolor": "white",
             "minorgridcolor": "white",
             "startlinecolor": "#2a3f5f"
            },
            "type": "carpet"
           }
          ],
          "choropleth": [
           {
            "colorbar": {
             "outlinewidth": 0,
             "ticks": ""
            },
            "type": "choropleth"
           }
          ],
          "contour": [
           {
            "colorbar": {
             "outlinewidth": 0,
             "ticks": ""
            },
            "colorscale": [
             [
              0,
              "#0d0887"
             ],
             [
              0.1111111111111111,
              "#46039f"
             ],
             [
              0.2222222222222222,
              "#7201a8"
             ],
             [
              0.3333333333333333,
              "#9c179e"
             ],
             [
              0.4444444444444444,
              "#bd3786"
             ],
             [
              0.5555555555555556,
              "#d8576b"
             ],
             [
              0.6666666666666666,
              "#ed7953"
             ],
             [
              0.7777777777777778,
              "#fb9f3a"
             ],
             [
              0.8888888888888888,
              "#fdca26"
             ],
             [
              1,
              "#f0f921"
             ]
            ],
            "type": "contour"
           }
          ],
          "contourcarpet": [
           {
            "colorbar": {
             "outlinewidth": 0,
             "ticks": ""
            },
            "type": "contourcarpet"
           }
          ],
          "heatmap": [
           {
            "colorbar": {
             "outlinewidth": 0,
             "ticks": ""
            },
            "colorscale": [
             [
              0,
              "#0d0887"
             ],
             [
              0.1111111111111111,
              "#46039f"
             ],
             [
              0.2222222222222222,
              "#7201a8"
             ],
             [
              0.3333333333333333,
              "#9c179e"
             ],
             [
              0.4444444444444444,
              "#bd3786"
             ],
             [
              0.5555555555555556,
              "#d8576b"
             ],
             [
              0.6666666666666666,
              "#ed7953"
             ],
             [
              0.7777777777777778,
              "#fb9f3a"
             ],
             [
              0.8888888888888888,
              "#fdca26"
             ],
             [
              1,
              "#f0f921"
             ]
            ],
            "type": "heatmap"
           }
          ],
          "heatmapgl": [
           {
            "colorbar": {
             "outlinewidth": 0,
             "ticks": ""
            },
            "colorscale": [
             [
              0,
              "#0d0887"
             ],
             [
              0.1111111111111111,
              "#46039f"
             ],
             [
              0.2222222222222222,
              "#7201a8"
             ],
             [
              0.3333333333333333,
              "#9c179e"
             ],
             [
              0.4444444444444444,
              "#bd3786"
             ],
             [
              0.5555555555555556,
              "#d8576b"
             ],
             [
              0.6666666666666666,
              "#ed7953"
             ],
             [
              0.7777777777777778,
              "#fb9f3a"
             ],
             [
              0.8888888888888888,
              "#fdca26"
             ],
             [
              1,
              "#f0f921"
             ]
            ],
            "type": "heatmapgl"
           }
          ],
          "histogram": [
           {
            "marker": {
             "pattern": {
              "fillmode": "overlay",
              "size": 10,
              "solidity": 0.2
             }
            },
            "type": "histogram"
           }
          ],
          "histogram2d": [
           {
            "colorbar": {
             "outlinewidth": 0,
             "ticks": ""
            },
            "colorscale": [
             [
              0,
              "#0d0887"
             ],
             [
              0.1111111111111111,
              "#46039f"
             ],
             [
              0.2222222222222222,
              "#7201a8"
             ],
             [
              0.3333333333333333,
              "#9c179e"
             ],
             [
              0.4444444444444444,
              "#bd3786"
             ],
             [
              0.5555555555555556,
              "#d8576b"
             ],
             [
              0.6666666666666666,
              "#ed7953"
             ],
             [
              0.7777777777777778,
              "#fb9f3a"
             ],
             [
              0.8888888888888888,
              "#fdca26"
             ],
             [
              1,
              "#f0f921"
             ]
            ],
            "type": "histogram2d"
           }
          ],
          "histogram2dcontour": [
           {
            "colorbar": {
             "outlinewidth": 0,
             "ticks": ""
            },
            "colorscale": [
             [
              0,
              "#0d0887"
             ],
             [
              0.1111111111111111,
              "#46039f"
             ],
             [
              0.2222222222222222,
              "#7201a8"
             ],
             [
              0.3333333333333333,
              "#9c179e"
             ],
             [
              0.4444444444444444,
              "#bd3786"
             ],
             [
              0.5555555555555556,
              "#d8576b"
             ],
             [
              0.6666666666666666,
              "#ed7953"
             ],
             [
              0.7777777777777778,
              "#fb9f3a"
             ],
             [
              0.8888888888888888,
              "#fdca26"
             ],
             [
              1,
              "#f0f921"
             ]
            ],
            "type": "histogram2dcontour"
           }
          ],
          "mesh3d": [
           {
            "colorbar": {
             "outlinewidth": 0,
             "ticks": ""
            },
            "type": "mesh3d"
           }
          ],
          "parcoords": [
           {
            "line": {
             "colorbar": {
              "outlinewidth": 0,
              "ticks": ""
             }
            },
            "type": "parcoords"
           }
          ],
          "pie": [
           {
            "automargin": true,
            "type": "pie"
           }
          ],
          "scatter": [
           {
            "marker": {
             "colorbar": {
              "outlinewidth": 0,
              "ticks": ""
             }
            },
            "type": "scatter"
           }
          ],
          "scatter3d": [
           {
            "line": {
             "colorbar": {
              "outlinewidth": 0,
              "ticks": ""
             }
            },
            "marker": {
             "colorbar": {
              "outlinewidth": 0,
              "ticks": ""
             }
            },
            "type": "scatter3d"
           }
          ],
          "scattercarpet": [
           {
            "marker": {
             "colorbar": {
              "outlinewidth": 0,
              "ticks": ""
             }
            },
            "type": "scattercarpet"
           }
          ],
          "scattergeo": [
           {
            "marker": {
             "colorbar": {
              "outlinewidth": 0,
              "ticks": ""
             }
            },
            "type": "scattergeo"
           }
          ],
          "scattergl": [
           {
            "marker": {
             "colorbar": {
              "outlinewidth": 0,
              "ticks": ""
             }
            },
            "type": "scattergl"
           }
          ],
          "scattermapbox": [
           {
            "marker": {
             "colorbar": {
              "outlinewidth": 0,
              "ticks": ""
             }
            },
            "type": "scattermapbox"
           }
          ],
          "scatterpolar": [
           {
            "marker": {
             "colorbar": {
              "outlinewidth": 0,
              "ticks": ""
             }
            },
            "type": "scatterpolar"
           }
          ],
          "scatterpolargl": [
           {
            "marker": {
             "colorbar": {
              "outlinewidth": 0,
              "ticks": ""
             }
            },
            "type": "scatterpolargl"
           }
          ],
          "scatterternary": [
           {
            "marker": {
             "colorbar": {
              "outlinewidth": 0,
              "ticks": ""
             }
            },
            "type": "scatterternary"
           }
          ],
          "surface": [
           {
            "colorbar": {
             "outlinewidth": 0,
             "ticks": ""
            },
            "colorscale": [
             [
              0,
              "#0d0887"
             ],
             [
              0.1111111111111111,
              "#46039f"
             ],
             [
              0.2222222222222222,
              "#7201a8"
             ],
             [
              0.3333333333333333,
              "#9c179e"
             ],
             [
              0.4444444444444444,
              "#bd3786"
             ],
             [
              0.5555555555555556,
              "#d8576b"
             ],
             [
              0.6666666666666666,
              "#ed7953"
             ],
             [
              0.7777777777777778,
              "#fb9f3a"
             ],
             [
              0.8888888888888888,
              "#fdca26"
             ],
             [
              1,
              "#f0f921"
             ]
            ],
            "type": "surface"
           }
          ],
          "table": [
           {
            "cells": {
             "fill": {
              "color": "#EBF0F8"
             },
             "line": {
              "color": "white"
             }
            },
            "header": {
             "fill": {
              "color": "#C8D4E3"
             },
             "line": {
              "color": "white"
             }
            },
            "type": "table"
           }
          ]
         },
         "layout": {
          "annotationdefaults": {
           "arrowcolor": "#2a3f5f",
           "arrowhead": 0,
           "arrowwidth": 1
          },
          "autotypenumbers": "strict",
          "coloraxis": {
           "colorbar": {
            "outlinewidth": 0,
            "ticks": ""
           }
          },
          "colorscale": {
           "diverging": [
            [
             0,
             "#8e0152"
            ],
            [
             0.1,
             "#c51b7d"
            ],
            [
             0.2,
             "#de77ae"
            ],
            [
             0.3,
             "#f1b6da"
            ],
            [
             0.4,
             "#fde0ef"
            ],
            [
             0.5,
             "#f7f7f7"
            ],
            [
             0.6,
             "#e6f5d0"
            ],
            [
             0.7,
             "#b8e186"
            ],
            [
             0.8,
             "#7fbc41"
            ],
            [
             0.9,
             "#4d9221"
            ],
            [
             1,
             "#276419"
            ]
           ],
           "sequential": [
            [
             0,
             "#0d0887"
            ],
            [
             0.1111111111111111,
             "#46039f"
            ],
            [
             0.2222222222222222,
             "#7201a8"
            ],
            [
             0.3333333333333333,
             "#9c179e"
            ],
            [
             0.4444444444444444,
             "#bd3786"
            ],
            [
             0.5555555555555556,
             "#d8576b"
            ],
            [
             0.6666666666666666,
             "#ed7953"
            ],
            [
             0.7777777777777778,
             "#fb9f3a"
            ],
            [
             0.8888888888888888,
             "#fdca26"
            ],
            [
             1,
             "#f0f921"
            ]
           ],
           "sequentialminus": [
            [
             0,
             "#0d0887"
            ],
            [
             0.1111111111111111,
             "#46039f"
            ],
            [
             0.2222222222222222,
             "#7201a8"
            ],
            [
             0.3333333333333333,
             "#9c179e"
            ],
            [
             0.4444444444444444,
             "#bd3786"
            ],
            [
             0.5555555555555556,
             "#d8576b"
            ],
            [
             0.6666666666666666,
             "#ed7953"
            ],
            [
             0.7777777777777778,
             "#fb9f3a"
            ],
            [
             0.8888888888888888,
             "#fdca26"
            ],
            [
             1,
             "#f0f921"
            ]
           ]
          },
          "colorway": [
           "#636efa",
           "#EF553B",
           "#00cc96",
           "#ab63fa",
           "#FFA15A",
           "#19d3f3",
           "#FF6692",
           "#B6E880",
           "#FF97FF",
           "#FECB52"
          ],
          "font": {
           "color": "#2a3f5f"
          },
          "geo": {
           "bgcolor": "white",
           "lakecolor": "white",
           "landcolor": "#E5ECF6",
           "showlakes": true,
           "showland": true,
           "subunitcolor": "white"
          },
          "hoverlabel": {
           "align": "left"
          },
          "hovermode": "closest",
          "mapbox": {
           "style": "light"
          },
          "paper_bgcolor": "white",
          "plot_bgcolor": "#E5ECF6",
          "polar": {
           "angularaxis": {
            "gridcolor": "white",
            "linecolor": "white",
            "ticks": ""
           },
           "bgcolor": "#E5ECF6",
           "radialaxis": {
            "gridcolor": "white",
            "linecolor": "white",
            "ticks": ""
           }
          },
          "scene": {
           "xaxis": {
            "backgroundcolor": "#E5ECF6",
            "gridcolor": "white",
            "gridwidth": 2,
            "linecolor": "white",
            "showbackground": true,
            "ticks": "",
            "zerolinecolor": "white"
           },
           "yaxis": {
            "backgroundcolor": "#E5ECF6",
            "gridcolor": "white",
            "gridwidth": 2,
            "linecolor": "white",
            "showbackground": true,
            "ticks": "",
            "zerolinecolor": "white"
           },
           "zaxis": {
            "backgroundcolor": "#E5ECF6",
            "gridcolor": "white",
            "gridwidth": 2,
            "linecolor": "white",
            "showbackground": true,
            "ticks": "",
            "zerolinecolor": "white"
           }
          },
          "shapedefaults": {
           "line": {
            "color": "#2a3f5f"
           }
          },
          "ternary": {
           "aaxis": {
            "gridcolor": "white",
            "linecolor": "white",
            "ticks": ""
           },
           "baxis": {
            "gridcolor": "white",
            "linecolor": "white",
            "ticks": ""
           },
           "bgcolor": "#E5ECF6",
           "caxis": {
            "gridcolor": "white",
            "linecolor": "white",
            "ticks": ""
           }
          },
          "title": {
           "x": 0.05
          },
          "xaxis": {
           "automargin": true,
           "gridcolor": "white",
           "linecolor": "white",
           "ticks": "",
           "title": {
            "standoff": 15
           },
           "zerolinecolor": "white",
           "zerolinewidth": 2
          },
          "yaxis": {
           "automargin": true,
           "gridcolor": "white",
           "linecolor": "white",
           "ticks": "",
           "title": {
            "standoff": 15
           },
           "zerolinecolor": "white",
           "zerolinewidth": 2
          }
         }
        },
        "title": {
         "text": "Donut Plot da situação do aluno"
        }
       }
      }
     },
     "metadata": {},
     "output_type": "display_data"
    }
   ],
   "source": [
    "situacao = pd.DataFrame(columns=['Situacao', 'Quantidade'])\n",
    "\n",
    "columns = ['SIT_AL_APROV', 'SIT_AL_REPROV', 'SIT_AL_ABAND', 'SIT_AL_CONCL', 'SIT_AL_TRANSF', 'SIT_AL_FALEC', 'SIT_AL_NCOM', 'SIT_AL_EXCL', 'SIT_AL_CES', 'SIT_AL_REMAN', 'SIT_AL_RECLAS', 'SIT_AL_ATIVO']\n",
    "labels = ['Aprovados', 'Reprovados', 'Abandono', 'Concluintes', 'Transferidos', 'Falecidos', 'Não comparecidos', 'Excluido', 'Cessado', 'Remanejado', 'Reclassificado', 'Ativo']\n",
    "\n",
    "for idx, label in enumerate(labels):\n",
    "    situacao.loc[idx] = list([label, np.sum(y[columns[idx]])])\n",
    "\n",
    "fig = go.Figure(data=[go.Pie(labels=situacao['Situacao'], values=situacao['Quantidade'], hole=.3)])\n",
    "fig.update_layout(title='Donut Plot da situação do aluno')\n",
    "fig.show()"
   ]
  },
  {
   "cell_type": "code",
   "execution_count": 31,
   "metadata": {},
   "outputs": [
    {
     "data": {
      "application/vnd.plotly.v1+json": {
       "config": {
        "plotlyServerURL": "https://plot.ly"
       },
       "data": [
        {
         "hoverinfo": "text+y",
         "line": {
          "shape": "linear"
         },
         "name": "Aprovados",
         "text": "Aprovados",
         "type": "scatter",
         "x": [
          2019,
          2018,
          2017,
          2016,
          2015,
          2014,
          2013,
          2012
         ],
         "y": [
          413079,
          427675,
          286997,
          339176,
          336083,
          357688,
          228435,
          243528
         ]
        },
        {
         "hoverinfo": "text+y",
         "line": {
          "shape": "linear"
         },
         "name": "Reprovados",
         "text": "Reprovados",
         "type": "scatter",
         "x": [
          2019,
          2018,
          2017,
          2016,
          2015,
          2014,
          2013,
          2012
         ],
         "y": [
          25877,
          29410,
          23687,
          28351,
          28642,
          30788,
          20453,
          21974
         ]
        },
        {
         "hoverinfo": "text+y",
         "line": {
          "shape": "linear"
         },
         "name": "Abandono",
         "text": "Abandono",
         "type": "scatter",
         "x": [
          2019,
          2018,
          2017,
          2016,
          2015,
          2014,
          2013,
          2012
         ],
         "y": [
          95939,
          99153,
          99470,
          96781,
          87118,
          109910,
          100547,
          97621
         ]
        },
        {
         "hoverinfo": "text+y",
         "line": {
          "shape": "linear"
         },
         "name": "Concluintes",
         "text": "Concluintes",
         "type": "scatter",
         "x": [
          2019,
          2018,
          2017,
          2016,
          2015,
          2014,
          2013,
          2012
         ],
         "y": [
          545677,
          543220,
          618281,
          580115,
          550346,
          486061,
          620358,
          616182
         ]
        },
        {
         "hoverinfo": "text+y",
         "line": {
          "shape": "linear"
         },
         "name": "Transferidos",
         "text": "Transferidos",
         "type": "scatter",
         "x": [
          2019,
          2018,
          2017,
          2016,
          2015,
          2014,
          2013,
          2012
         ],
         "y": [
          122435,
          110392,
          90490,
          79252,
          70340,
          51504,
          51977,
          36348
         ]
        },
        {
         "hoverinfo": "text+y",
         "line": {
          "shape": "linear"
         },
         "name": "Falecidos",
         "text": "Falecidos",
         "type": "scatter",
         "x": [
          2019,
          2018,
          2017,
          2016,
          2015,
          2014,
          2013,
          2012
         ],
         "y": [
          155,
          198,
          182,
          165,
          162,
          143,
          151,
          152
         ]
        },
        {
         "hoverinfo": "text+y",
         "line": {
          "shape": "linear"
         },
         "name": "Não comparecidos",
         "text": "Não comparecidos",
         "type": "scatter",
         "x": [
          2019,
          2018,
          2017,
          2016,
          2015,
          2014,
          2013,
          2012
         ],
         "y": [
          4773,
          8657,
          7436,
          8023,
          10124,
          9860,
          27373,
          2890
         ]
        },
        {
         "hoverinfo": "text+y",
         "line": {
          "shape": "linear"
         },
         "name": "Excluido",
         "text": "Excluido",
         "type": "scatter",
         "x": [
          2019,
          2018,
          2017,
          2016,
          2015,
          2014,
          2013,
          2012
         ],
         "y": [
          7335,
          9082,
          24603,
          7169,
          19740,
          30354,
          29886,
          58753
         ]
        },
        {
         "hoverinfo": "text+y",
         "line": {
          "shape": "linear"
         },
         "name": "Cessado",
         "text": "Cessado",
         "type": "scatter",
         "x": [
          2019,
          2018,
          2017,
          2016,
          2015,
          2014,
          2013,
          2012
         ],
         "y": [
          4715,
          2522,
          24351,
          21941,
          14354,
          11603,
          20427,
          14270
         ]
        },
        {
         "hoverinfo": "text+y",
         "line": {
          "shape": "linear"
         },
         "name": "Remanejado",
         "text": "Remanejado",
         "type": "scatter",
         "x": [
          2019,
          2018,
          2017,
          2016,
          2015,
          2014,
          2013,
          2012
         ],
         "y": [
          19560,
          18229,
          18538,
          17249,
          16731,
          17790,
          19165,
          533
         ]
        },
        {
         "hoverinfo": "text+y",
         "line": {
          "shape": "linear"
         },
         "name": "Reclassificado",
         "text": "Reclassificado",
         "type": "scatter",
         "x": [
          2019,
          2018,
          2017,
          2016,
          2015,
          2014,
          2013,
          2012
         ],
         "y": [
          3035,
          3331,
          2661,
          1880,
          2237,
          2647,
          2593,
          33
         ]
        },
        {
         "hoverinfo": "text+y",
         "line": {
          "shape": "linear"
         },
         "name": "Ativo",
         "text": "Ativo",
         "type": "scatter",
         "x": [
          2019,
          2018,
          2017,
          2016,
          2015,
          2014,
          2013,
          2012
         ],
         "y": [
          26823,
          10898,
          6502,
          1434,
          37,
          164,
          47,
          30227
         ]
        }
       ],
       "layout": {
        "template": {
         "data": {
          "bar": [
           {
            "error_x": {
             "color": "#2a3f5f"
            },
            "error_y": {
             "color": "#2a3f5f"
            },
            "marker": {
             "line": {
              "color": "#E5ECF6",
              "width": 0.5
             },
             "pattern": {
              "fillmode": "overlay",
              "size": 10,
              "solidity": 0.2
             }
            },
            "type": "bar"
           }
          ],
          "barpolar": [
           {
            "marker": {
             "line": {
              "color": "#E5ECF6",
              "width": 0.5
             },
             "pattern": {
              "fillmode": "overlay",
              "size": 10,
              "solidity": 0.2
             }
            },
            "type": "barpolar"
           }
          ],
          "carpet": [
           {
            "aaxis": {
             "endlinecolor": "#2a3f5f",
             "gridcolor": "white",
             "linecolor": "white",
             "minorgridcolor": "white",
             "startlinecolor": "#2a3f5f"
            },
            "baxis": {
             "endlinecolor": "#2a3f5f",
             "gridcolor": "white",
             "linecolor": "white",
             "minorgridcolor": "white",
             "startlinecolor": "#2a3f5f"
            },
            "type": "carpet"
           }
          ],
          "choropleth": [
           {
            "colorbar": {
             "outlinewidth": 0,
             "ticks": ""
            },
            "type": "choropleth"
           }
          ],
          "contour": [
           {
            "colorbar": {
             "outlinewidth": 0,
             "ticks": ""
            },
            "colorscale": [
             [
              0,
              "#0d0887"
             ],
             [
              0.1111111111111111,
              "#46039f"
             ],
             [
              0.2222222222222222,
              "#7201a8"
             ],
             [
              0.3333333333333333,
              "#9c179e"
             ],
             [
              0.4444444444444444,
              "#bd3786"
             ],
             [
              0.5555555555555556,
              "#d8576b"
             ],
             [
              0.6666666666666666,
              "#ed7953"
             ],
             [
              0.7777777777777778,
              "#fb9f3a"
             ],
             [
              0.8888888888888888,
              "#fdca26"
             ],
             [
              1,
              "#f0f921"
             ]
            ],
            "type": "contour"
           }
          ],
          "contourcarpet": [
           {
            "colorbar": {
             "outlinewidth": 0,
             "ticks": ""
            },
            "type": "contourcarpet"
           }
          ],
          "heatmap": [
           {
            "colorbar": {
             "outlinewidth": 0,
             "ticks": ""
            },
            "colorscale": [
             [
              0,
              "#0d0887"
             ],
             [
              0.1111111111111111,
              "#46039f"
             ],
             [
              0.2222222222222222,
              "#7201a8"
             ],
             [
              0.3333333333333333,
              "#9c179e"
             ],
             [
              0.4444444444444444,
              "#bd3786"
             ],
             [
              0.5555555555555556,
              "#d8576b"
             ],
             [
              0.6666666666666666,
              "#ed7953"
             ],
             [
              0.7777777777777778,
              "#fb9f3a"
             ],
             [
              0.8888888888888888,
              "#fdca26"
             ],
             [
              1,
              "#f0f921"
             ]
            ],
            "type": "heatmap"
           }
          ],
          "heatmapgl": [
           {
            "colorbar": {
             "outlinewidth": 0,
             "ticks": ""
            },
            "colorscale": [
             [
              0,
              "#0d0887"
             ],
             [
              0.1111111111111111,
              "#46039f"
             ],
             [
              0.2222222222222222,
              "#7201a8"
             ],
             [
              0.3333333333333333,
              "#9c179e"
             ],
             [
              0.4444444444444444,
              "#bd3786"
             ],
             [
              0.5555555555555556,
              "#d8576b"
             ],
             [
              0.6666666666666666,
              "#ed7953"
             ],
             [
              0.7777777777777778,
              "#fb9f3a"
             ],
             [
              0.8888888888888888,
              "#fdca26"
             ],
             [
              1,
              "#f0f921"
             ]
            ],
            "type": "heatmapgl"
           }
          ],
          "histogram": [
           {
            "marker": {
             "pattern": {
              "fillmode": "overlay",
              "size": 10,
              "solidity": 0.2
             }
            },
            "type": "histogram"
           }
          ],
          "histogram2d": [
           {
            "colorbar": {
             "outlinewidth": 0,
             "ticks": ""
            },
            "colorscale": [
             [
              0,
              "#0d0887"
             ],
             [
              0.1111111111111111,
              "#46039f"
             ],
             [
              0.2222222222222222,
              "#7201a8"
             ],
             [
              0.3333333333333333,
              "#9c179e"
             ],
             [
              0.4444444444444444,
              "#bd3786"
             ],
             [
              0.5555555555555556,
              "#d8576b"
             ],
             [
              0.6666666666666666,
              "#ed7953"
             ],
             [
              0.7777777777777778,
              "#fb9f3a"
             ],
             [
              0.8888888888888888,
              "#fdca26"
             ],
             [
              1,
              "#f0f921"
             ]
            ],
            "type": "histogram2d"
           }
          ],
          "histogram2dcontour": [
           {
            "colorbar": {
             "outlinewidth": 0,
             "ticks": ""
            },
            "colorscale": [
             [
              0,
              "#0d0887"
             ],
             [
              0.1111111111111111,
              "#46039f"
             ],
             [
              0.2222222222222222,
              "#7201a8"
             ],
             [
              0.3333333333333333,
              "#9c179e"
             ],
             [
              0.4444444444444444,
              "#bd3786"
             ],
             [
              0.5555555555555556,
              "#d8576b"
             ],
             [
              0.6666666666666666,
              "#ed7953"
             ],
             [
              0.7777777777777778,
              "#fb9f3a"
             ],
             [
              0.8888888888888888,
              "#fdca26"
             ],
             [
              1,
              "#f0f921"
             ]
            ],
            "type": "histogram2dcontour"
           }
          ],
          "mesh3d": [
           {
            "colorbar": {
             "outlinewidth": 0,
             "ticks": ""
            },
            "type": "mesh3d"
           }
          ],
          "parcoords": [
           {
            "line": {
             "colorbar": {
              "outlinewidth": 0,
              "ticks": ""
             }
            },
            "type": "parcoords"
           }
          ],
          "pie": [
           {
            "automargin": true,
            "type": "pie"
           }
          ],
          "scatter": [
           {
            "marker": {
             "colorbar": {
              "outlinewidth": 0,
              "ticks": ""
             }
            },
            "type": "scatter"
           }
          ],
          "scatter3d": [
           {
            "line": {
             "colorbar": {
              "outlinewidth": 0,
              "ticks": ""
             }
            },
            "marker": {
             "colorbar": {
              "outlinewidth": 0,
              "ticks": ""
             }
            },
            "type": "scatter3d"
           }
          ],
          "scattercarpet": [
           {
            "marker": {
             "colorbar": {
              "outlinewidth": 0,
              "ticks": ""
             }
            },
            "type": "scattercarpet"
           }
          ],
          "scattergeo": [
           {
            "marker": {
             "colorbar": {
              "outlinewidth": 0,
              "ticks": ""
             }
            },
            "type": "scattergeo"
           }
          ],
          "scattergl": [
           {
            "marker": {
             "colorbar": {
              "outlinewidth": 0,
              "ticks": ""
             }
            },
            "type": "scattergl"
           }
          ],
          "scattermapbox": [
           {
            "marker": {
             "colorbar": {
              "outlinewidth": 0,
              "ticks": ""
             }
            },
            "type": "scattermapbox"
           }
          ],
          "scatterpolar": [
           {
            "marker": {
             "colorbar": {
              "outlinewidth": 0,
              "ticks": ""
             }
            },
            "type": "scatterpolar"
           }
          ],
          "scatterpolargl": [
           {
            "marker": {
             "colorbar": {
              "outlinewidth": 0,
              "ticks": ""
             }
            },
            "type": "scatterpolargl"
           }
          ],
          "scatterternary": [
           {
            "marker": {
             "colorbar": {
              "outlinewidth": 0,
              "ticks": ""
             }
            },
            "type": "scatterternary"
           }
          ],
          "surface": [
           {
            "colorbar": {
             "outlinewidth": 0,
             "ticks": ""
            },
            "colorscale": [
             [
              0,
              "#0d0887"
             ],
             [
              0.1111111111111111,
              "#46039f"
             ],
             [
              0.2222222222222222,
              "#7201a8"
             ],
             [
              0.3333333333333333,
              "#9c179e"
             ],
             [
              0.4444444444444444,
              "#bd3786"
             ],
             [
              0.5555555555555556,
              "#d8576b"
             ],
             [
              0.6666666666666666,
              "#ed7953"
             ],
             [
              0.7777777777777778,
              "#fb9f3a"
             ],
             [
              0.8888888888888888,
              "#fdca26"
             ],
             [
              1,
              "#f0f921"
             ]
            ],
            "type": "surface"
           }
          ],
          "table": [
           {
            "cells": {
             "fill": {
              "color": "#EBF0F8"
             },
             "line": {
              "color": "white"
             }
            },
            "header": {
             "fill": {
              "color": "#C8D4E3"
             },
             "line": {
              "color": "white"
             }
            },
            "type": "table"
           }
          ]
         },
         "layout": {
          "annotationdefaults": {
           "arrowcolor": "#2a3f5f",
           "arrowhead": 0,
           "arrowwidth": 1
          },
          "autotypenumbers": "strict",
          "coloraxis": {
           "colorbar": {
            "outlinewidth": 0,
            "ticks": ""
           }
          },
          "colorscale": {
           "diverging": [
            [
             0,
             "#8e0152"
            ],
            [
             0.1,
             "#c51b7d"
            ],
            [
             0.2,
             "#de77ae"
            ],
            [
             0.3,
             "#f1b6da"
            ],
            [
             0.4,
             "#fde0ef"
            ],
            [
             0.5,
             "#f7f7f7"
            ],
            [
             0.6,
             "#e6f5d0"
            ],
            [
             0.7,
             "#b8e186"
            ],
            [
             0.8,
             "#7fbc41"
            ],
            [
             0.9,
             "#4d9221"
            ],
            [
             1,
             "#276419"
            ]
           ],
           "sequential": [
            [
             0,
             "#0d0887"
            ],
            [
             0.1111111111111111,
             "#46039f"
            ],
            [
             0.2222222222222222,
             "#7201a8"
            ],
            [
             0.3333333333333333,
             "#9c179e"
            ],
            [
             0.4444444444444444,
             "#bd3786"
            ],
            [
             0.5555555555555556,
             "#d8576b"
            ],
            [
             0.6666666666666666,
             "#ed7953"
            ],
            [
             0.7777777777777778,
             "#fb9f3a"
            ],
            [
             0.8888888888888888,
             "#fdca26"
            ],
            [
             1,
             "#f0f921"
            ]
           ],
           "sequentialminus": [
            [
             0,
             "#0d0887"
            ],
            [
             0.1111111111111111,
             "#46039f"
            ],
            [
             0.2222222222222222,
             "#7201a8"
            ],
            [
             0.3333333333333333,
             "#9c179e"
            ],
            [
             0.4444444444444444,
             "#bd3786"
            ],
            [
             0.5555555555555556,
             "#d8576b"
            ],
            [
             0.6666666666666666,
             "#ed7953"
            ],
            [
             0.7777777777777778,
             "#fb9f3a"
            ],
            [
             0.8888888888888888,
             "#fdca26"
            ],
            [
             1,
             "#f0f921"
            ]
           ]
          },
          "colorway": [
           "#636efa",
           "#EF553B",
           "#00cc96",
           "#ab63fa",
           "#FFA15A",
           "#19d3f3",
           "#FF6692",
           "#B6E880",
           "#FF97FF",
           "#FECB52"
          ],
          "font": {
           "color": "#2a3f5f"
          },
          "geo": {
           "bgcolor": "white",
           "lakecolor": "white",
           "landcolor": "#E5ECF6",
           "showlakes": true,
           "showland": true,
           "subunitcolor": "white"
          },
          "hoverlabel": {
           "align": "left"
          },
          "hovermode": "closest",
          "mapbox": {
           "style": "light"
          },
          "paper_bgcolor": "white",
          "plot_bgcolor": "#E5ECF6",
          "polar": {
           "angularaxis": {
            "gridcolor": "white",
            "linecolor": "white",
            "ticks": ""
           },
           "bgcolor": "#E5ECF6",
           "radialaxis": {
            "gridcolor": "white",
            "linecolor": "white",
            "ticks": ""
           }
          },
          "scene": {
           "xaxis": {
            "backgroundcolor": "#E5ECF6",
            "gridcolor": "white",
            "gridwidth": 2,
            "linecolor": "white",
            "showbackground": true,
            "ticks": "",
            "zerolinecolor": "white"
           },
           "yaxis": {
            "backgroundcolor": "#E5ECF6",
            "gridcolor": "white",
            "gridwidth": 2,
            "linecolor": "white",
            "showbackground": true,
            "ticks": "",
            "zerolinecolor": "white"
           },
           "zaxis": {
            "backgroundcolor": "#E5ECF6",
            "gridcolor": "white",
            "gridwidth": 2,
            "linecolor": "white",
            "showbackground": true,
            "ticks": "",
            "zerolinecolor": "white"
           }
          },
          "shapedefaults": {
           "line": {
            "color": "#2a3f5f"
           }
          },
          "ternary": {
           "aaxis": {
            "gridcolor": "white",
            "linecolor": "white",
            "ticks": ""
           },
           "baxis": {
            "gridcolor": "white",
            "linecolor": "white",
            "ticks": ""
           },
           "bgcolor": "#E5ECF6",
           "caxis": {
            "gridcolor": "white",
            "linecolor": "white",
            "ticks": ""
           }
          },
          "title": {
           "x": 0.05
          },
          "xaxis": {
           "automargin": true,
           "gridcolor": "white",
           "linecolor": "white",
           "ticks": "",
           "title": {
            "standoff": 15
           },
           "zerolinecolor": "white",
           "zerolinewidth": 2
          },
          "yaxis": {
           "automargin": true,
           "gridcolor": "white",
           "linecolor": "white",
           "ticks": "",
           "title": {
            "standoff": 15
           },
           "zerolinecolor": "white",
           "zerolinewidth": 2
          }
         }
        },
        "title": {
         "text": "Line Chart da situação dos alunos pelos anos"
        }
       }
      }
     },
     "metadata": {},
     "output_type": "display_data"
    }
   ],
   "source": [
    "columns = ['AN_LETIVO', 'SIT_AL_APROV', 'SIT_AL_REPROV', 'SIT_AL_ABAND', 'SIT_AL_CONCL', 'SIT_AL_TRANSF', 'SIT_AL_FALEC', 'SIT_AL_NCOM', 'SIT_AL_EXCL', 'SIT_AL_CES', 'SIT_AL_REMAN', 'SIT_AL_RECLAS', 'SIT_AL_ATIVO']\n",
    "labels = ['Aprovados', 'Reprovados', 'Abandono', 'Concluintes', 'Transferidos', 'Falecidos', 'Não comparecidos', 'Excluido', 'Cessado', 'Remanejado', 'Reclassificado', 'Ativo']\n",
    "\n",
    "df = pd.DataFrame(columns=columns)\n",
    "\n",
    "df['AN_LETIVO'] = y['AN_LETIVO'].unique()\n",
    "\n",
    "for column in columns[1:]:\n",
    "    df[column] = list([np.sum(y.loc[y['AN_LETIVO'] == 2019][column]), np.sum(y.loc[y['AN_LETIVO'] == 2018][column]), np.sum(y.loc[y['AN_LETIVO'] == 2017][column]), np.sum(y.loc[y['AN_LETIVO'] == 2016][column]), np.sum(y.loc[y['AN_LETIVO'] == 2015][column]), np.sum(y.loc[y['AN_LETIVO'] == 2014][column]), np.sum(y.loc[y['AN_LETIVO'] == 2013][column]), np.sum(y.loc[y['AN_LETIVO'] == 2012][column])])\n",
    "\n",
    "fig = go.Figure()\n",
    "fig.update_layout(title='Line Chart da situação dos alunos pelos anos')\n",
    "for i, column in enumerate(columns[1:]):\n",
    "    fig.add_trace(go.Scatter(x=df[\"AN_LETIVO\"], y=df[column], name=labels[i],\n",
    "                        text=labels[i],\n",
    "                        hoverinfo='text+y',\n",
    "                        line_shape='linear'))\n",
    "fig.show()\n"
   ]
  },
  {
   "cell_type": "code",
   "execution_count": 32,
   "metadata": {},
   "outputs": [
    {
     "data": {
      "application/vnd.plotly.v1+json": {
       "config": {
        "plotlyServerURL": "https://plot.ly"
       },
       "data": [
        {
         "hoverinfo": "text+y",
         "line": {
          "shape": "linear"
         },
         "name": "Superdotação",
         "text": "Superdotação",
         "type": "scatter",
         "x": [
          2019,
          2018,
          2017,
          2016,
          2015,
          2014,
          2013,
          2012
         ],
         "y": [
          62,
          67,
          64,
          32,
          26,
          23,
          19,
          13
         ]
        },
        {
         "hoverinfo": "text+y",
         "line": {
          "shape": "linear"
         },
         "name": "Autismo",
         "text": "Autismo",
         "type": "scatter",
         "x": [
          2019,
          2018,
          2017,
          2016,
          2015,
          2014,
          2013,
          2012
         ],
         "y": [
          3949,
          4144,
          4312,
          2228,
          2205,
          2131,
          1947,
          1601
         ]
        },
        {
         "hoverinfo": "text+y",
         "line": {
          "shape": "linear"
         },
         "name": "Surdez leve",
         "text": "Surdez leve",
         "type": "scatter",
         "x": [
          2019,
          2018,
          2017,
          2016,
          2015,
          2014,
          2013,
          2012
         ],
         "y": [
          555,
          615,
          712,
          558,
          593,
          654,
          710,
          718
         ]
        },
        {
         "hoverinfo": "text+y",
         "line": {
          "shape": "linear"
         },
         "name": "Surdez severa",
         "text": "Surdez severa",
         "type": "scatter",
         "x": [
          2019,
          2018,
          2017,
          2016,
          2015,
          2014,
          2013,
          2012
         ],
         "y": [
          1133,
          1202,
          1551,
          1290,
          1418,
          1569,
          1682,
          1881
         ]
        },
        {
         "hoverinfo": "text+y",
         "line": {
          "shape": "linear"
         },
         "name": "Interlectual",
         "text": "Interlectual",
         "type": "scatter",
         "x": [
          2019,
          2018,
          2017,
          2016,
          2015,
          2014,
          2013,
          2012
         ],
         "y": [
          10967,
          12054,
          13947,
          10991,
          11640,
          12315,
          12807,
          12813
         ]
        },
        {
         "hoverinfo": "text+y",
         "line": {
          "shape": "linear"
         },
         "name": "Multipla",
         "text": "Multipla",
         "type": "scatter",
         "x": [
          2019,
          2018,
          2017,
          2016,
          2015,
          2014,
          2013,
          2012
         ],
         "y": [
          2165,
          2327,
          3132,
          2015,
          2103,
          2112,
          2161,
          2158
         ]
        },
        {
         "hoverinfo": "text+y",
         "line": {
          "shape": "linear"
         },
         "name": "Cegueira",
         "text": "Cegueira",
         "type": "scatter",
         "x": [
          2019,
          2018,
          2017,
          2016,
          2015,
          2014,
          2013,
          2012
         ],
         "y": [
          118,
          135,
          149,
          115,
          128,
          136,
          146,
          147
         ]
        },
        {
         "hoverinfo": "text+y",
         "line": {
          "shape": "linear"
         },
         "name": "Baixa visão",
         "text": "Baixa visão",
         "type": "scatter",
         "x": [
          2019,
          2018,
          2017,
          2016,
          2015,
          2014,
          2013,
          2012
         ],
         "y": [
          995,
          1070,
          1323,
          1084,
          1148,
          1227,
          1236,
          1218
         ]
        },
        {
         "hoverinfo": "text+y",
         "line": {
          "shape": "linear"
         },
         "name": "Surdo Cegueira",
         "text": "Surdo Cegueira",
         "type": "scatter",
         "x": [
          2019,
          2018,
          2017,
          2016,
          2015,
          2014,
          2013,
          2012
         ],
         "y": [
          23,
          25,
          23,
          20,
          20,
          21,
          22,
          24
         ]
        },
        {
         "hoverinfo": "text+y",
         "line": {
          "shape": "linear"
         },
         "name": "Transtorno degenerativo",
         "text": "Transtorno degenerativo",
         "type": "scatter",
         "x": [
          2019,
          2018,
          2017,
          2016,
          2015,
          2014,
          2013,
          2012
         ],
         "y": [
          150,
          160,
          198,
          147,
          182,
          190,
          278,
          348
         ]
        },
        {
         "hoverinfo": "text+y",
         "line": {
          "shape": "linear"
         },
         "name": "Aspeger",
         "text": "Aspeger",
         "type": "scatter",
         "x": [
          2019,
          2018,
          2017,
          2016,
          2015,
          2014,
          2013,
          2012
         ],
         "y": [
          149,
          162,
          179,
          135,
          146,
          141,
          139,
          129
         ]
        },
        {
         "hoverinfo": "text+y",
         "line": {
          "shape": "linear"
         },
         "name": "Rett",
         "text": "Rett",
         "type": "scatter",
         "x": [
          2019,
          2018,
          2017,
          2016,
          2015,
          2014,
          2013,
          2012
         ],
         "y": [
          47,
          49,
          60,
          61,
          56,
          50,
          55,
          84
         ]
        },
        {
         "hoverinfo": "text+y",
         "line": {
          "shape": "linear"
         },
         "name": "Fisica não cadeirante",
         "text": "Fisica não cadeirante",
         "type": "scatter",
         "x": [
          2019,
          2018,
          2017,
          2016,
          2015,
          2014,
          2013,
          2012
         ],
         "y": [
          3488,
          3728,
          4412,
          3239,
          3376,
          3457,
          3449,
          3265
         ]
        },
        {
         "hoverinfo": "text+y",
         "line": {
          "shape": "linear"
         },
         "name": "Fisica cadeirante",
         "text": "Fisica cadeirante",
         "type": "scatter",
         "x": [
          2019,
          2018,
          2017,
          2016,
          2015,
          2014,
          2013,
          2012
         ],
         "y": [
          2294,
          2500,
          2747,
          2021,
          2059,
          2025,
          1922,
          1641
         ]
        },
        {
         "hoverinfo": "text+y",
         "line": {
          "shape": "linear"
         },
         "name": "Sem deficiencia",
         "text": "Sem deficiencia",
         "type": "scatter",
         "x": [
          2019,
          2018,
          2017,
          2016,
          2015,
          2014,
          2013,
          2012
         ],
         "y": [
          1248165,
          1239848,
          1175538,
          1161934,
          1115244,
          1086814,
          1098897,
          1099882
         ]
        }
       ],
       "layout": {
        "template": {
         "data": {
          "bar": [
           {
            "error_x": {
             "color": "#2a3f5f"
            },
            "error_y": {
             "color": "#2a3f5f"
            },
            "marker": {
             "line": {
              "color": "#E5ECF6",
              "width": 0.5
             },
             "pattern": {
              "fillmode": "overlay",
              "size": 10,
              "solidity": 0.2
             }
            },
            "type": "bar"
           }
          ],
          "barpolar": [
           {
            "marker": {
             "line": {
              "color": "#E5ECF6",
              "width": 0.5
             },
             "pattern": {
              "fillmode": "overlay",
              "size": 10,
              "solidity": 0.2
             }
            },
            "type": "barpolar"
           }
          ],
          "carpet": [
           {
            "aaxis": {
             "endlinecolor": "#2a3f5f",
             "gridcolor": "white",
             "linecolor": "white",
             "minorgridcolor": "white",
             "startlinecolor": "#2a3f5f"
            },
            "baxis": {
             "endlinecolor": "#2a3f5f",
             "gridcolor": "white",
             "linecolor": "white",
             "minorgridcolor": "white",
             "startlinecolor": "#2a3f5f"
            },
            "type": "carpet"
           }
          ],
          "choropleth": [
           {
            "colorbar": {
             "outlinewidth": 0,
             "ticks": ""
            },
            "type": "choropleth"
           }
          ],
          "contour": [
           {
            "colorbar": {
             "outlinewidth": 0,
             "ticks": ""
            },
            "colorscale": [
             [
              0,
              "#0d0887"
             ],
             [
              0.1111111111111111,
              "#46039f"
             ],
             [
              0.2222222222222222,
              "#7201a8"
             ],
             [
              0.3333333333333333,
              "#9c179e"
             ],
             [
              0.4444444444444444,
              "#bd3786"
             ],
             [
              0.5555555555555556,
              "#d8576b"
             ],
             [
              0.6666666666666666,
              "#ed7953"
             ],
             [
              0.7777777777777778,
              "#fb9f3a"
             ],
             [
              0.8888888888888888,
              "#fdca26"
             ],
             [
              1,
              "#f0f921"
             ]
            ],
            "type": "contour"
           }
          ],
          "contourcarpet": [
           {
            "colorbar": {
             "outlinewidth": 0,
             "ticks": ""
            },
            "type": "contourcarpet"
           }
          ],
          "heatmap": [
           {
            "colorbar": {
             "outlinewidth": 0,
             "ticks": ""
            },
            "colorscale": [
             [
              0,
              "#0d0887"
             ],
             [
              0.1111111111111111,
              "#46039f"
             ],
             [
              0.2222222222222222,
              "#7201a8"
             ],
             [
              0.3333333333333333,
              "#9c179e"
             ],
             [
              0.4444444444444444,
              "#bd3786"
             ],
             [
              0.5555555555555556,
              "#d8576b"
             ],
             [
              0.6666666666666666,
              "#ed7953"
             ],
             [
              0.7777777777777778,
              "#fb9f3a"
             ],
             [
              0.8888888888888888,
              "#fdca26"
             ],
             [
              1,
              "#f0f921"
             ]
            ],
            "type": "heatmap"
           }
          ],
          "heatmapgl": [
           {
            "colorbar": {
             "outlinewidth": 0,
             "ticks": ""
            },
            "colorscale": [
             [
              0,
              "#0d0887"
             ],
             [
              0.1111111111111111,
              "#46039f"
             ],
             [
              0.2222222222222222,
              "#7201a8"
             ],
             [
              0.3333333333333333,
              "#9c179e"
             ],
             [
              0.4444444444444444,
              "#bd3786"
             ],
             [
              0.5555555555555556,
              "#d8576b"
             ],
             [
              0.6666666666666666,
              "#ed7953"
             ],
             [
              0.7777777777777778,
              "#fb9f3a"
             ],
             [
              0.8888888888888888,
              "#fdca26"
             ],
             [
              1,
              "#f0f921"
             ]
            ],
            "type": "heatmapgl"
           }
          ],
          "histogram": [
           {
            "marker": {
             "pattern": {
              "fillmode": "overlay",
              "size": 10,
              "solidity": 0.2
             }
            },
            "type": "histogram"
           }
          ],
          "histogram2d": [
           {
            "colorbar": {
             "outlinewidth": 0,
             "ticks": ""
            },
            "colorscale": [
             [
              0,
              "#0d0887"
             ],
             [
              0.1111111111111111,
              "#46039f"
             ],
             [
              0.2222222222222222,
              "#7201a8"
             ],
             [
              0.3333333333333333,
              "#9c179e"
             ],
             [
              0.4444444444444444,
              "#bd3786"
             ],
             [
              0.5555555555555556,
              "#d8576b"
             ],
             [
              0.6666666666666666,
              "#ed7953"
             ],
             [
              0.7777777777777778,
              "#fb9f3a"
             ],
             [
              0.8888888888888888,
              "#fdca26"
             ],
             [
              1,
              "#f0f921"
             ]
            ],
            "type": "histogram2d"
           }
          ],
          "histogram2dcontour": [
           {
            "colorbar": {
             "outlinewidth": 0,
             "ticks": ""
            },
            "colorscale": [
             [
              0,
              "#0d0887"
             ],
             [
              0.1111111111111111,
              "#46039f"
             ],
             [
              0.2222222222222222,
              "#7201a8"
             ],
             [
              0.3333333333333333,
              "#9c179e"
             ],
             [
              0.4444444444444444,
              "#bd3786"
             ],
             [
              0.5555555555555556,
              "#d8576b"
             ],
             [
              0.6666666666666666,
              "#ed7953"
             ],
             [
              0.7777777777777778,
              "#fb9f3a"
             ],
             [
              0.8888888888888888,
              "#fdca26"
             ],
             [
              1,
              "#f0f921"
             ]
            ],
            "type": "histogram2dcontour"
           }
          ],
          "mesh3d": [
           {
            "colorbar": {
             "outlinewidth": 0,
             "ticks": ""
            },
            "type": "mesh3d"
           }
          ],
          "parcoords": [
           {
            "line": {
             "colorbar": {
              "outlinewidth": 0,
              "ticks": ""
             }
            },
            "type": "parcoords"
           }
          ],
          "pie": [
           {
            "automargin": true,
            "type": "pie"
           }
          ],
          "scatter": [
           {
            "marker": {
             "colorbar": {
              "outlinewidth": 0,
              "ticks": ""
             }
            },
            "type": "scatter"
           }
          ],
          "scatter3d": [
           {
            "line": {
             "colorbar": {
              "outlinewidth": 0,
              "ticks": ""
             }
            },
            "marker": {
             "colorbar": {
              "outlinewidth": 0,
              "ticks": ""
             }
            },
            "type": "scatter3d"
           }
          ],
          "scattercarpet": [
           {
            "marker": {
             "colorbar": {
              "outlinewidth": 0,
              "ticks": ""
             }
            },
            "type": "scattercarpet"
           }
          ],
          "scattergeo": [
           {
            "marker": {
             "colorbar": {
              "outlinewidth": 0,
              "ticks": ""
             }
            },
            "type": "scattergeo"
           }
          ],
          "scattergl": [
           {
            "marker": {
             "colorbar": {
              "outlinewidth": 0,
              "ticks": ""
             }
            },
            "type": "scattergl"
           }
          ],
          "scattermapbox": [
           {
            "marker": {
             "colorbar": {
              "outlinewidth": 0,
              "ticks": ""
             }
            },
            "type": "scattermapbox"
           }
          ],
          "scatterpolar": [
           {
            "marker": {
             "colorbar": {
              "outlinewidth": 0,
              "ticks": ""
             }
            },
            "type": "scatterpolar"
           }
          ],
          "scatterpolargl": [
           {
            "marker": {
             "colorbar": {
              "outlinewidth": 0,
              "ticks": ""
             }
            },
            "type": "scatterpolargl"
           }
          ],
          "scatterternary": [
           {
            "marker": {
             "colorbar": {
              "outlinewidth": 0,
              "ticks": ""
             }
            },
            "type": "scatterternary"
           }
          ],
          "surface": [
           {
            "colorbar": {
             "outlinewidth": 0,
             "ticks": ""
            },
            "colorscale": [
             [
              0,
              "#0d0887"
             ],
             [
              0.1111111111111111,
              "#46039f"
             ],
             [
              0.2222222222222222,
              "#7201a8"
             ],
             [
              0.3333333333333333,
              "#9c179e"
             ],
             [
              0.4444444444444444,
              "#bd3786"
             ],
             [
              0.5555555555555556,
              "#d8576b"
             ],
             [
              0.6666666666666666,
              "#ed7953"
             ],
             [
              0.7777777777777778,
              "#fb9f3a"
             ],
             [
              0.8888888888888888,
              "#fdca26"
             ],
             [
              1,
              "#f0f921"
             ]
            ],
            "type": "surface"
           }
          ],
          "table": [
           {
            "cells": {
             "fill": {
              "color": "#EBF0F8"
             },
             "line": {
              "color": "white"
             }
            },
            "header": {
             "fill": {
              "color": "#C8D4E3"
             },
             "line": {
              "color": "white"
             }
            },
            "type": "table"
           }
          ]
         },
         "layout": {
          "annotationdefaults": {
           "arrowcolor": "#2a3f5f",
           "arrowhead": 0,
           "arrowwidth": 1
          },
          "autotypenumbers": "strict",
          "coloraxis": {
           "colorbar": {
            "outlinewidth": 0,
            "ticks": ""
           }
          },
          "colorscale": {
           "diverging": [
            [
             0,
             "#8e0152"
            ],
            [
             0.1,
             "#c51b7d"
            ],
            [
             0.2,
             "#de77ae"
            ],
            [
             0.3,
             "#f1b6da"
            ],
            [
             0.4,
             "#fde0ef"
            ],
            [
             0.5,
             "#f7f7f7"
            ],
            [
             0.6,
             "#e6f5d0"
            ],
            [
             0.7,
             "#b8e186"
            ],
            [
             0.8,
             "#7fbc41"
            ],
            [
             0.9,
             "#4d9221"
            ],
            [
             1,
             "#276419"
            ]
           ],
           "sequential": [
            [
             0,
             "#0d0887"
            ],
            [
             0.1111111111111111,
             "#46039f"
            ],
            [
             0.2222222222222222,
             "#7201a8"
            ],
            [
             0.3333333333333333,
             "#9c179e"
            ],
            [
             0.4444444444444444,
             "#bd3786"
            ],
            [
             0.5555555555555556,
             "#d8576b"
            ],
            [
             0.6666666666666666,
             "#ed7953"
            ],
            [
             0.7777777777777778,
             "#fb9f3a"
            ],
            [
             0.8888888888888888,
             "#fdca26"
            ],
            [
             1,
             "#f0f921"
            ]
           ],
           "sequentialminus": [
            [
             0,
             "#0d0887"
            ],
            [
             0.1111111111111111,
             "#46039f"
            ],
            [
             0.2222222222222222,
             "#7201a8"
            ],
            [
             0.3333333333333333,
             "#9c179e"
            ],
            [
             0.4444444444444444,
             "#bd3786"
            ],
            [
             0.5555555555555556,
             "#d8576b"
            ],
            [
             0.6666666666666666,
             "#ed7953"
            ],
            [
             0.7777777777777778,
             "#fb9f3a"
            ],
            [
             0.8888888888888888,
             "#fdca26"
            ],
            [
             1,
             "#f0f921"
            ]
           ]
          },
          "colorway": [
           "#636efa",
           "#EF553B",
           "#00cc96",
           "#ab63fa",
           "#FFA15A",
           "#19d3f3",
           "#FF6692",
           "#B6E880",
           "#FF97FF",
           "#FECB52"
          ],
          "font": {
           "color": "#2a3f5f"
          },
          "geo": {
           "bgcolor": "white",
           "lakecolor": "white",
           "landcolor": "#E5ECF6",
           "showlakes": true,
           "showland": true,
           "subunitcolor": "white"
          },
          "hoverlabel": {
           "align": "left"
          },
          "hovermode": "closest",
          "mapbox": {
           "style": "light"
          },
          "paper_bgcolor": "white",
          "plot_bgcolor": "#E5ECF6",
          "polar": {
           "angularaxis": {
            "gridcolor": "white",
            "linecolor": "white",
            "ticks": ""
           },
           "bgcolor": "#E5ECF6",
           "radialaxis": {
            "gridcolor": "white",
            "linecolor": "white",
            "ticks": ""
           }
          },
          "scene": {
           "xaxis": {
            "backgroundcolor": "#E5ECF6",
            "gridcolor": "white",
            "gridwidth": 2,
            "linecolor": "white",
            "showbackground": true,
            "ticks": "",
            "zerolinecolor": "white"
           },
           "yaxis": {
            "backgroundcolor": "#E5ECF6",
            "gridcolor": "white",
            "gridwidth": 2,
            "linecolor": "white",
            "showbackground": true,
            "ticks": "",
            "zerolinecolor": "white"
           },
           "zaxis": {
            "backgroundcolor": "#E5ECF6",
            "gridcolor": "white",
            "gridwidth": 2,
            "linecolor": "white",
            "showbackground": true,
            "ticks": "",
            "zerolinecolor": "white"
           }
          },
          "shapedefaults": {
           "line": {
            "color": "#2a3f5f"
           }
          },
          "ternary": {
           "aaxis": {
            "gridcolor": "white",
            "linecolor": "white",
            "ticks": ""
           },
           "baxis": {
            "gridcolor": "white",
            "linecolor": "white",
            "ticks": ""
           },
           "bgcolor": "#E5ECF6",
           "caxis": {
            "gridcolor": "white",
            "linecolor": "white",
            "ticks": ""
           }
          },
          "title": {
           "x": 0.05
          },
          "xaxis": {
           "automargin": true,
           "gridcolor": "white",
           "linecolor": "white",
           "ticks": "",
           "title": {
            "standoff": 15
           },
           "zerolinecolor": "white",
           "zerolinewidth": 2
          },
          "yaxis": {
           "automargin": true,
           "gridcolor": "white",
           "linecolor": "white",
           "ticks": "",
           "title": {
            "standoff": 15
           },
           "zerolinecolor": "white",
           "zerolinewidth": 2
          }
         }
        },
        "title": {
         "text": "Line Chart das deficiências dos alunos pelos anos"
        }
       }
      }
     },
     "metadata": {},
     "output_type": "display_data"
    }
   ],
   "source": [
    "columns = ['AN_LETIVO', 'NEE_ALT_HAB', 'DEF__AUTISMO', 'DEF__SURDEZ_LEVE', 'DEF__SURDEZ_SEV', 'DEF__INTELECT', 'DEF__MULTIPLA', 'DEF__CEGUEIRA', 'DEF__BAIXA_VISAO', 'DEF__SURDO_CEG', 'DEF__TRANST_DES_INF', 'DEF__SINDR_ASPER', 'DEF__SINDR_RETT', 'DEF__FIS_N_CADEIR', 'DEF__FIS_CADEIR', 'DEF__N_POSSUI']\n",
    "labels = ['Superdotação', 'Autismo', 'Surdez leve', 'Surdez severa', 'Interlectual', 'Multipla', 'Cegueira', 'Baixa visão', 'Surdo Cegueira', 'Transtorno degenerativo', 'Aspeger', 'Rett', 'Fisica não cadeirante', 'Fisica cadeirante', 'Sem deficiencia']\n",
    "\n",
    "df = pd.DataFrame(columns=columns)\n",
    "\n",
    "df['AN_LETIVO'] = y['AN_LETIVO'].unique()\n",
    "\n",
    "for column in columns[1:]:\n",
    "    df[column] = list([np.sum(y.loc[y['AN_LETIVO'] == 2019][column]), np.sum(y.loc[y['AN_LETIVO'] == 2018][column]), np.sum(y.loc[y['AN_LETIVO'] == 2017][column]), np.sum(y.loc[y['AN_LETIVO'] == 2016][column]), np.sum(y.loc[y['AN_LETIVO'] == 2015][column]), np.sum(y.loc[y['AN_LETIVO'] == 2014][column]), np.sum(y.loc[y['AN_LETIVO'] == 2013][column]), np.sum(y.loc[y['AN_LETIVO'] == 2012][column])])\n",
    "\n",
    "fig = go.Figure()\n",
    "fig.update_layout(title='Line Chart das deficiências dos alunos pelos anos')\n",
    "for i, column in enumerate(columns[1:]):\n",
    "    fig.add_trace(go.Scatter(x=df[\"AN_LETIVO\"], y=df[column], name=labels[i],\n",
    "                        text=labels[i],\n",
    "                        hoverinfo='text+y',\n",
    "                        line_shape='linear'))\n",
    "fig.show()\n"
   ]
  },
  {
   "cell_type": "code",
   "execution_count": 33,
   "metadata": {},
   "outputs": [
    {
     "data": {
      "text/plain": [
       "[Text(0.5, 0, 'Alunos'),\n",
       " Text(0, 0.5, 'Idade'),\n",
       " Text(0.5, 1.0, 'Idade dos alunos por sexo')]"
      ]
     },
     "execution_count": 33,
     "metadata": {},
     "output_type": "execute_result"
    },
    {
     "data": {
      "image/png": "[encoded data removed]",
      "text/plain": [
       "<Figure size 1440x720 with 1 Axes>"
      ]
     },
     "metadata": {},
     "output_type": "display_data"
    }
   ],
   "source": [
    "df = pd.DataFrame({\n",
    "    'Idade': ['[0-3]', '[3-6]', '[6-9]', '[9-12]', '[12-15]', '[15-18]', '[18+]'],\n",
    "    'Masculino': [np.sum(y.loc[y['CD_SEXO'] == 'M']['[0-3]']) * -1, np.sum(y.loc[y['CD_SEXO'] == 'M']['[3-6]']) * -1, np.sum(y.loc[y['CD_SEXO'] == 'M']['[6-9]']) * -1, np.sum(y.loc[y['CD_SEXO'] == 'M']['[9-12]']) * -1, np.sum(y.loc[y['CD_SEXO'] == 'M']['[12-15]']) * -1, np.sum(y.loc[y['CD_SEXO'] == 'M']['[15-18]']) * -1, np.sum(y.loc[y['CD_SEXO'] == 'M']['[18+]']) * -1],\n",
    "    'Feminino': [np.sum(y.loc[y['CD_SEXO'] == 'F']['[0-3]']), np.sum(y.loc[y['CD_SEXO'] == 'F']['[3-6]']), np.sum(y.loc[y['CD_SEXO'] == 'F']['[6-9]']), np.sum(y.loc[y['CD_SEXO'] == 'F']['[9-12]']), np.sum(y.loc[y['CD_SEXO'] == 'F']['[12-15]']), np.sum(y.loc[y['CD_SEXO'] == 'F']['[15-18]']), np.sum(y.loc[y['CD_SEXO'] == 'F']['[18+]'])]\n",
    "})\n",
    "\n",
    "AgeClass = ['[18+]', '[15-18]', '[12-15]', '[9-12]', '[6-9]', '[3-6]', '[0-3]']\n",
    "\n",
    "bar_plot = sns.barplot(x='Masculino', y='Idade', data=df, order=AgeClass, lw=0, label='Masculino', color='#A18DFA')\n",
    "bar_plot = sns.barplot(x='Feminino', y='Idade', data=df, order=AgeClass, lw=0, label='Feminino', color='#A304DB')\n",
    "bar_plot.legend()\n",
    "bar_plot.set(xlabel=\"Alunos\", ylabel=\"Idade\", title = \"Idade dos alunos por sexo\")"
   ]
  },
  {
   "cell_type": "code",
   "execution_count": 34,
   "id": "59942ec8",
   "metadata": {},
   "outputs": [
    {
     "data": {
      "image/png": "[encoded data removed]",
      "text/plain": [
       "<Figure size 1440x720 with 2 Axes>"
      ]
     },
     "metadata": {},
     "output_type": "display_data"
    }
   ],
   "source": [
    "dfhm = pd.DataFrame([\\\n",
    "    [y.loc[y['AN_LETIVO'] == 2019]['CD_RACA_COR'].value_counts(normalize=True)[2], y.loc[y['AN_LETIVO'] == 2019]['CD_RACA_COR'].value_counts(normalize=True)[1], y.loc[y['AN_LETIVO'] == 2019]['CD_RACA_COR'].value_counts(normalize=True)[4], y.loc[y['AN_LETIVO'] == 2019]['CD_RACA_COR'].value_counts(normalize=True)[3], y.loc[y['AN_LETIVO'] == 2019]['CD_RACA_COR'].value_counts(normalize=True)[5], y.loc[y['AN_LETIVO'] == 2019]['CD_RACA_COR'].value_counts(normalize=True)[6]],\\\n",
    "    [y.loc[y['AN_LETIVO'] == 2018]['CD_RACA_COR'].value_counts(normalize=True)[2], y.loc[y['AN_LETIVO'] == 2018]['CD_RACA_COR'].value_counts(normalize=True)[1], y.loc[y['AN_LETIVO'] == 2018]['CD_RACA_COR'].value_counts(normalize=True)[4], y.loc[y['AN_LETIVO'] == 2018]['CD_RACA_COR'].value_counts(normalize=True)[3], y.loc[y['AN_LETIVO'] == 2018]['CD_RACA_COR'].value_counts(normalize=True)[5], y.loc[y['AN_LETIVO'] == 2018]['CD_RACA_COR'].value_counts(normalize=True)[6]],\\\n",
    "    [y.loc[y['AN_LETIVO'] == 2017]['CD_RACA_COR'].value_counts(normalize=True)[2], y.loc[y['AN_LETIVO'] == 2017]['CD_RACA_COR'].value_counts(normalize=True)[1], y.loc[y['AN_LETIVO'] == 2017]['CD_RACA_COR'].value_counts(normalize=True)[4], y.loc[y['AN_LETIVO'] == 2017]['CD_RACA_COR'].value_counts(normalize=True)[3], y.loc[y['AN_LETIVO'] == 2017]['CD_RACA_COR'].value_counts(normalize=True)[5], y.loc[y['AN_LETIVO'] == 2017]['CD_RACA_COR'].value_counts(normalize=True)[6]],\\\n",
    "    [y.loc[y['AN_LETIVO'] == 2016]['CD_RACA_COR'].value_counts(normalize=True)[2], y.loc[y['AN_LETIVO'] == 2016]['CD_RACA_COR'].value_counts(normalize=True)[1], y.loc[y['AN_LETIVO'] == 2016]['CD_RACA_COR'].value_counts(normalize=True)[4], y.loc[y['AN_LETIVO'] == 2016]['CD_RACA_COR'].value_counts(normalize=True)[3], y.loc[y['AN_LETIVO'] == 2016]['CD_RACA_COR'].value_counts(normalize=True)[5], y.loc[y['AN_LETIVO'] == 2016]['CD_RACA_COR'].value_counts(normalize=True)[6]],\\\n",
    "    [y.loc[y['AN_LETIVO'] == 2015]['CD_RACA_COR'].value_counts(normalize=True)[2], y.loc[y['AN_LETIVO'] == 2015]['CD_RACA_COR'].value_counts(normalize=True)[1], y.loc[y['AN_LETIVO'] == 2015]['CD_RACA_COR'].value_counts(normalize=True)[4], y.loc[y['AN_LETIVO'] == 2015]['CD_RACA_COR'].value_counts(normalize=True)[3], y.loc[y['AN_LETIVO'] == 2015]['CD_RACA_COR'].value_counts(normalize=True)[5], y.loc[y['AN_LETIVO'] == 2015]['CD_RACA_COR'].value_counts(normalize=True)[6]]\\\n",
    "    ],\\\n",
    "    columns=['Preta', 'Branca', 'Amarela', 'Parda','Indígena', 'Não informado'])\n",
    "\n",
    "grid_kws = {\"height_ratios\": (.9, .05), \"hspace\": .3}\n",
    "f, (ax, cbar_ax) = plt.subplots(2, gridspec_kw=grid_kws)\n",
    "ax = sns.heatmap(dfhm, ax=ax,\n",
    "                 cbar_ax=cbar_ax,\n",
    "                 cbar_kws={\"orientation\": \"horizontal\"},\n",
    "                 yticklabels=['2019', '2018', '2017', '2016', '2015'],\n",
    "                 annot=True)\n",
    "ax.set_title('HeatMap da raça dos alunos pelos anos')\n",
    "plt.show()"
   ]
  }
 ],
 "metadata": {
  "interpreter": {
   "hash": "a01cbe3509f40fe8fbb70f6e35a414a4aeac5b623ad71bdf179810de598dc153"
  },
  "kernelspec": {
   "display_name": "Python 3.9.7 64-bit",
   "name": "python3"
  },
  "language_info": {
   "codemirror_mode": {
    "name": "ipython",
    "version": 3
   },
   "file_extension": ".py",
   "mimetype": "text/x-python",
   "name": "python",
   "nbconvert_exporter": "python",
   "pygments_lexer": "ipython3",
   "version": "3.9.7"
  }
 },
 "nbformat": 4,
 "nbformat_minor": 5
}
