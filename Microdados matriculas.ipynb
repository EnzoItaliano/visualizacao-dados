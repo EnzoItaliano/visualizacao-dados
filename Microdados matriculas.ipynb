{
 "cells": [
  {
   "cell_type": "markdown",
   "metadata": {},
   "source": [
    "# Visualização dos microdados das matriculas da rede municipal de educação do município de SP"
   ]
  },
  {
   "cell_type": "code",
   "execution_count": 27,
   "metadata": {},
   "outputs": [
    {
     "name": "stdout",
     "output_type": "stream",
     "text": [
      "[[2019 308258 'MARSILAC' ... 0 nan nan]\n",
      " [2019 309152 'SAO MATEUS' ... 0 nan nan]\n",
      " [2019 309152 'SAO MATEUS' ... 0 nan nan]\n",
      " ...\n",
      " [2019 19325 'SAO RAFAEL' ... 0 nan nan]\n",
      " [2019 306717 'PARELHEIROS' ... 0 nan nan]\n",
      " [2019 19532 'VILA ANDRADE' ... 0 nan nan]]\n"
     ]
    }
   ],
   "source": [
    "import pandas as pd\n",
    "\n",
    "arq = pd.read_csv('data/Microdados_EOL_Matriculas_Ano_2019.csv', encoding = \"ISO-8859-1\", sep = ';')\n",
    "X = arq.values\n",
    "\n",
    "print(X)"
   ]
  }
 ],
 "metadata": {
  "interpreter": {
   "hash": "a01cbe3509f40fe8fbb70f6e35a414a4aeac5b623ad71bdf179810de598dc153"
  },
  "kernelspec": {
   "display_name": "Python 3.9.7 64-bit",
   "name": "python3"
  },
  "language_info": {
   "codemirror_mode": {
    "name": "ipython",
    "version": 3
   },
   "file_extension": ".py",
   "mimetype": "text/x-python",
   "name": "python",
   "nbconvert_exporter": "python",
   "pygments_lexer": "ipython3",
   "version": "3.9.7"
  }
 },
 "nbformat": 4,
 "nbformat_minor": 5
}
