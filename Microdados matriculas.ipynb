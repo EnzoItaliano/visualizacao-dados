{
 "cells": [
  {
   "cell_type": "markdown",
   "id": "4edc0bf9",
   "metadata": {},
   "source": [
    "# Visualização dos microdados das matriculas da rede municipal de educação do município de SP"
   ]
  },
  {
   "cell_type": "code",
   "execution_count": 39,
   "id": "192a922a",
   "metadata": {
    "scrolled": true
   },
   "outputs": [
    {
     "name": "stdout",
     "output_type": "stream",
     "text": [
      "       AN_LETIVO  CD_UNIDADE_EDUCACAO   NOME_DISTRITO  CD_SETOR   TIPO_ESCOLA  \\\n",
      "0           2019               308258        MARSILAC      5201  CR.P.CONV      \n",
      "1           2019               309152      SAO MATEUS      7301  CR.P.CONV      \n",
      "2           2019               309152      SAO MATEUS      7301  CR.P.CONV      \n",
      "3           2019               700029     VILA CURUCA      8404  CEU AT COMPL   \n",
      "4           2019               308028      SAO MIGUEL      7405  CR.P.CONV      \n",
      "...          ...                  ...             ...       ...           ...   \n",
      "49995       2019               308295        IGUATEMI      3302  CR.P.CONV      \n",
      "49996       2019               400791     VILA CURUCA      8408  CEI INDIR      \n",
      "49997       2019               307572          GRAJAU      3012  CR.P.CONV      \n",
      "49998       2019                19502  ITAIM PAULISTA      3609  EMEI           \n",
      "49999       2019               400630           PENHA      5902  CEI INDIR      \n",
      "\n",
      "                        NOME_ESCOLA  \\\n",
      "0             VOVO MARIAZINHA ROCHA   \n",
      "1                              NOAH   \n",
      "2                              NOAH   \n",
      "3       VILA CURUCA - IRENE RAMALHO   \n",
      "4                     IRENE RAMALHO   \n",
      "...                             ...   \n",
      "49995     GALPAO ATRIA - LIMOEIRO I   \n",
      "49996                 NOVO CRUZEIRO   \n",
      "49997                       GUARANI   \n",
      "49998  MARISA LOPES PINHEIRO, PROFA   \n",
      "49999                         PENHA   \n",
      "\n",
      "                                                    DRE  CD_INEP_ESCOLA  \\\n",
      "0      DIRETORIA REGIONAL DE EDUCACAO CAPELA DO SOCORRO      35571416.0   \n",
      "1             DIRETORIA REGIONAL DE EDUCACAO SAO MATEUS      35005592.0   \n",
      "2             DIRETORIA REGIONAL DE EDUCACAO SAO MATEUS      35005592.0   \n",
      "3             DIRETORIA REGIONAL DE EDUCACAO SAO MIGUEL      35455830.0   \n",
      "4             DIRETORIA REGIONAL DE EDUCACAO SAO MIGUEL      35563067.0   \n",
      "...                                                 ...             ...   \n",
      "49995         DIRETORIA REGIONAL DE EDUCACAO SAO MATEUS      35577595.0   \n",
      "49996         DIRETORIA REGIONAL DE EDUCACAO SAO MIGUEL      35495451.0   \n",
      "49997  DIRETORIA REGIONAL DE EDUCACAO CAPELA DO SOCORRO      35457103.0   \n",
      "49998         DIRETORIA REGIONAL DE EDUCACAO SAO MIGUEL      35495748.0   \n",
      "49999              DIRETORIA REGIONAL DE EDUCACAO PENHA      35311716.0   \n",
      "\n",
      "      SITUACAO_ESCOLA  CD_TURMA  ...  SIT_AL_TRANSF SIT_AL_FALEC  SIT_AL_NCOM  \\\n",
      "0               ATIVA   2023654  ...              1            0            0   \n",
      "1               ATIVA   2027168  ...              0            0            0   \n",
      "2               ATIVA   2027184  ...              0            0            0   \n",
      "3               ATIVA   2092158  ...              0            0            0   \n",
      "4               ATIVA   2030404  ...              0            0            0   \n",
      "...               ...       ...  ...            ...          ...          ...   \n",
      "49995           ATIVA   2026035  ...              1            0            0   \n",
      "49996           ATIVA   2082878  ...              1            0            0   \n",
      "49997           ATIVA   2011821  ...              0            0            0   \n",
      "49998           ATIVA   2003358  ...              0            0            0   \n",
      "49999           ATIVA   2019662  ...              1            0            0   \n",
      "\n",
      "      SIT_AL_EXCL SIT_AL_CES SIT_AL_REMAN SIT_AL_RECLAS SIT_AL_ATIVO  \\\n",
      "0               0          0            0             0            0   \n",
      "1               0          0            0             0            0   \n",
      "2               0          0            1             0            0   \n",
      "3               0          0            0             0            0   \n",
      "4               0          0            0             0            0   \n",
      "...           ...        ...          ...           ...          ...   \n",
      "49995           0          0            0             0            0   \n",
      "49996           0          0            0             0            0   \n",
      "49997           0          0            0             0            0   \n",
      "49998           0          0            0             0            0   \n",
      "49999           0          0            0             0            0   \n",
      "\n",
      "       CD_PARECER_CONCL_FIN  DESC_PARECER_CONCL_FIN  \n",
      "0                       NaN                     NaN  \n",
      "1                       NaN                     NaN  \n",
      "2                       NaN                     NaN  \n",
      "3                       NaN                     NaN  \n",
      "4                       NaN                     NaN  \n",
      "...                     ...                     ...  \n",
      "49995                   NaN                     NaN  \n",
      "49996                   NaN                     NaN  \n",
      "49997                   NaN                     NaN  \n",
      "49998                   NaN                     NaN  \n",
      "49999                   NaN                     NaN  \n",
      "\n",
      "[50000 rows x 95 columns]\n"
     ]
    }
   ],
   "source": [
    "import pandas as pd\n",
    "\n",
    "tabela = pd.read_csv('data/Microdados_EOL_Matriculas_Ano_2019.csv', encoding = \"ISO-8859-1\", sep = ';', chunksize=50000)\n",
    "\n",
    "# y = pd.DataFrame(tabela)\n",
    "y = 0\n",
    "\n",
    "for x in tabela:\n",
    "    y = x\n",
    "    print(x)\n",
    "    break\n",
    "\n",
    "# Dados faltando\n",
    "y = y.drop(\"DESC_CICLO_ENSINO\", axis=1)\n",
    "y = y.drop(\"DESC_TIPO_PROGRAMA\", axis=1)\n",
    "y = y.drop(\"CD_PARECER_CONCL_FIN\", axis=1)\n",
    "y = y.drop(\"DESC_PARECER_CONCL_FIN\", axis=1)\n",
    "\n",
    "# Não consta no dicionário de variáveis\n",
    "y = y.drop(\"DUR_DIA_HORA\", axis=1)\n",
    "y = y.drop(\"DUR_DIA_MIN\", axis=1)\n",
    "# y = y.drop(\"X_SEMANA\", axis=1)\n"
   ]
  },
  {
   "cell_type": "code",
   "execution_count": 40,
   "id": "20b09f2b",
   "metadata": {},
   "outputs": [
    {
     "name": "stdout",
     "output_type": "stream",
     "text": [
      "<class 'pandas.core.frame.DataFrame'>\n",
      "Int64Index: 41921 entries, 0 to 49999\n",
      "Data columns (total 89 columns):\n",
      " #   Column                    Non-Null Count  Dtype  \n",
      "---  ------                    --------------  -----  \n",
      " 0   AN_LETIVO                 41921 non-null  int64  \n",
      " 1   CD_UNIDADE_EDUCACAO       41921 non-null  int64  \n",
      " 2   NOME_DISTRITO             41921 non-null  object \n",
      " 3   CD_SETOR                  41921 non-null  int64  \n",
      " 4   TIPO_ESCOLA               41921 non-null  object \n",
      " 5   NOME_ESCOLA               41921 non-null  object \n",
      " 6   DRE                       41921 non-null  object \n",
      " 7   CD_INEP_ESCOLA            41921 non-null  float64\n",
      " 8   SITUACAO_ESCOLA           41921 non-null  object \n",
      " 9   CD_TURMA                  41921 non-null  int64  \n",
      " 10  CD_TURNO                  41921 non-null  int64  \n",
      " 11  DESC_TURNO                41921 non-null  object \n",
      " 12  CD_SERIE                  41921 non-null  int64  \n",
      " 13  DESC_SERIE                41921 non-null  object \n",
      " 14  MODALIDADE                41921 non-null  object \n",
      " 15  MODALIDADE_SEGMENTO       41921 non-null  object \n",
      " 16  TURMA_ESCOL               41921 non-null  object \n",
      " 17  NOME_TURMA                41921 non-null  object \n",
      " 18  HORA_IN_TURMA             41921 non-null  int64  \n",
      " 19  HORA_FIM_TURMA            41921 non-null  int64  \n",
      " 20  DESC_PERIODICIDADE_TURMA  41921 non-null  object \n",
      " 21  CD_ETAPA_ENSINO           41921 non-null  float64\n",
      " 22  DESC_ETAPA_ENSINO         41921 non-null  object \n",
      " 23  CD_CICLO_ENSINO           41921 non-null  float64\n",
      " 24  CD_TIPO_TURMA             41921 non-null  float64\n",
      " 25  DESC_TIPO_TURMA           41921 non-null  object \n",
      " 26  CD_TIPO_PROGRAMA          41921 non-null  float64\n",
      " 27  DUR_DIA_TURMA             41921 non-null  float64\n",
      " 28  DUR_SEMAN_TURMA           41921 non-null  object \n",
      " 29  DUR_SEM_HORA              41921 non-null  float64\n",
      " 30  DUR_SEM_MIN               41921 non-null  float64\n",
      " 31  QTD_DIAS_SEMAN_TURMA      41921 non-null  float64\n",
      " 32  X_SEMANA                  41921 non-null  float64\n",
      " 33  SEG                       41921 non-null  float64\n",
      " 34  TER                       41921 non-null  float64\n",
      " 35  QUA                       41921 non-null  float64\n",
      " 36  QUI                       41921 non-null  float64\n",
      " 37  SEX                       41921 non-null  float64\n",
      " 38  SAB                       41921 non-null  float64\n",
      " 39  DOM                       41921 non-null  float64\n",
      " 40  CD_ALUNO_SME              41921 non-null  int64  \n",
      " 41  ANO_NASC_ALUNO            41921 non-null  int64  \n",
      " 42  MES_NASC_ALUNO            41921 non-null  int64  \n",
      " 43  IDADE_ALUNO_ANO_CIVIL     41921 non-null  int64  \n",
      " 44  IDADE_ALUNO_3103          41921 non-null  int64  \n",
      " 45  CD_SEXO                   41921 non-null  object \n",
      " 46  CD_RACA_COR               41921 non-null  int64  \n",
      " 47  DESC_RACA_COR             41921 non-null  object \n",
      " 48  CD_PAIS_NASC              41921 non-null  int64  \n",
      " 49  DESC_PAIS_NASC            41921 non-null  object \n",
      " 50  CD_MUN_NASC               41921 non-null  float64\n",
      " 51  DESC_MUN_NASC             41921 non-null  object \n",
      " 52  DESC_UF_NASC              41921 non-null  object \n",
      " 53  NEE_ALT_HAB               41921 non-null  int64  \n",
      " 54  DEF__AUTISMO              41921 non-null  int64  \n",
      " 55  DEF__SURDEZ_LEVE          41921 non-null  int64  \n",
      " 56  DEF__SURDEZ_SEV           41921 non-null  int64  \n",
      " 57  DEF__INTELECT             41921 non-null  int64  \n",
      " 58  DEF__MULTIPLA             41921 non-null  int64  \n",
      " 59  DEF__CEGUEIRA             41921 non-null  int64  \n",
      " 60  DEF__BAIXA_VISAO          41921 non-null  int64  \n",
      " 61  DEF__SURDO_CEG            41921 non-null  int64  \n",
      " 62  DEF__TRANST_DES_INF       41921 non-null  int64  \n",
      " 63  DEF__SINDR_ASPER          41921 non-null  int64  \n",
      " 64  DEF__SINDR_RETT           41921 non-null  int64  \n",
      " 65  DEF__FIS_N_CADEIR         41921 non-null  int64  \n",
      " 66  DEF__FIS_CADEIR           41921 non-null  int64  \n",
      " 67  DEF__N_POSSUI             41921 non-null  int64  \n",
      " 68  CD_MAT                    41921 non-null  int64  \n",
      " 69  DT_IN_MAT                 41921 non-null  object \n",
      " 70  DT_FIM_MAT                41921 non-null  object \n",
      " 71  QTD_DIAS_MATR             41921 non-null  int64  \n",
      " 72  ANO_IN_MAT                41921 non-null  int64  \n",
      " 73  MES_IN_MAT                41921 non-null  int64  \n",
      " 74  SITUACAO_MAT              41921 non-null  object \n",
      " 75  ANO_SIT_MAT               41921 non-null  int64  \n",
      " 76  MES_SIT_MAT               41921 non-null  int64  \n",
      " 77  SIT_AL_APROV              41921 non-null  int64  \n",
      " 78  SIT_AL_REPROV             41921 non-null  int64  \n",
      " 79  SIT_AL_ABAND              41921 non-null  int64  \n",
      " 80  SIT_AL_CONCL              41921 non-null  int64  \n",
      " 81  SIT_AL_TRANSF             41921 non-null  int64  \n",
      " 82  SIT_AL_FALEC              41921 non-null  int64  \n",
      " 83  SIT_AL_NCOM               41921 non-null  int64  \n",
      " 84  SIT_AL_EXCL               41921 non-null  int64  \n",
      " 85  SIT_AL_CES                41921 non-null  int64  \n",
      " 86  SIT_AL_REMAN              41921 non-null  int64  \n",
      " 87  SIT_AL_RECLAS             41921 non-null  int64  \n",
      " 88  SIT_AL_ATIVO              41921 non-null  int64  \n",
      "dtypes: float64(18), int64(48), object(23)\n",
      "memory usage: 28.8+ MB\n"
     ]
    }
   ],
   "source": [
    "y[\"DUR_DIA_TURMA\"] = pd.to_numeric(y[\"DUR_DIA_TURMA\"], errors=\"coerce\")\n",
    "\n",
    "y = y.dropna(how=\"any\", axis=0)\n",
    "y.info()"
   ]
  },
  {
   "cell_type": "code",
   "execution_count": 41,
   "metadata": {},
   "outputs": [
    {
     "data": {
      "text/plain": [
       "<wordcloud.wordcloud.WordCloud at 0x266fc9f66d0>"
      ]
     },
     "execution_count": 41,
     "metadata": {},
     "output_type": "execute_result"
    },
    {
     "data": {
      "image/png": "[encoded data removed]",
      "text/plain": [
       "<Figure size 720x432 with 1 Axes>"
      ]
     },
     "metadata": {
      "needs_background": "light"
     },
     "output_type": "display_data"
    }
   ],
   "source": [
    "from wordcloud import WordCloud\n",
    "import matplotlib.pyplot as plt\n",
    "\n",
    "text = y['NOME_ESCOLA'].str.replace(',', '').str.replace(' ', '_').str.cat(sep=' ')\n",
    "# print(text)\n",
    "wordcloud = WordCloud(background_color=\"black\",\n",
    "                      width=1980, height=1080).generate(text)\n",
    "\n",
    "fig, ax = plt.subplots(figsize=(10,6))\n",
    "ax.imshow(wordcloud, interpolation='bilinear')\n",
    "ax.set_axis_off()\n",
    " \n",
    "plt.imshow(wordcloud)\n",
    "wordcloud.to_file(\"summary_wordcloud.png\")"
   ]
  },
  {
   "cell_type": "code",
   "execution_count": 42,
   "metadata": {},
   "outputs": [
    {
     "data": {
      "application/vnd.plotly.v1+json": {
       "config": {
        "plotlyServerURL": "https://plot.ly"
       },
       "data": [
        {
         "labels": [
          "Aprovados",
          "Reprovados",
          "Abandono",
          "Concluintes",
          "Transferidos",
          "Falecidos",
          "Não comparecidos",
          "Excluido",
          "Cessado",
          "Remanejado",
          "Reclassificado",
          "Ativo"
         ],
         "type": "pie",
         "values": [
          2514,
          350,
          5281,
          25638,
          6331,
          8,
          141,
          226,
          0,
          820,
          60,
          552
         ]
        }
       ],
       "layout": {
        "template": {
         "data": {
          "bar": [
           {
            "error_x": {
             "color": "#2a3f5f"
            },
            "error_y": {
             "color": "#2a3f5f"
            },
            "marker": {
             "line": {
              "color": "#E5ECF6",
              "width": 0.5
             },
             "pattern": {
              "fillmode": "overlay",
              "size": 10,
              "solidity": 0.2
             }
            },
            "type": "bar"
           }
          ],
          "barpolar": [
           {
            "marker": {
             "line": {
              "color": "#E5ECF6",
              "width": 0.5
             },
             "pattern": {
              "fillmode": "overlay",
              "size": 10,
              "solidity": 0.2
             }
            },
            "type": "barpolar"
           }
          ],
          "carpet": [
           {
            "aaxis": {
             "endlinecolor": "#2a3f5f",
             "gridcolor": "white",
             "linecolor": "white",
             "minorgridcolor": "white",
             "startlinecolor": "#2a3f5f"
            },
            "baxis": {
             "endlinecolor": "#2a3f5f",
             "gridcolor": "white",
             "linecolor": "white",
             "minorgridcolor": "white",
             "startlinecolor": "#2a3f5f"
            },
            "type": "carpet"
           }
          ],
          "choropleth": [
           {
            "colorbar": {
             "outlinewidth": 0,
             "ticks": ""
            },
            "type": "choropleth"
           }
          ],
          "contour": [
           {
            "colorbar": {
             "outlinewidth": 0,
             "ticks": ""
            },
            "colorscale": [
             [
              0,
              "#0d0887"
             ],
             [
              0.1111111111111111,
              "#46039f"
             ],
             [
              0.2222222222222222,
              "#7201a8"
             ],
             [
              0.3333333333333333,
              "#9c179e"
             ],
             [
              0.4444444444444444,
              "#bd3786"
             ],
             [
              0.5555555555555556,
              "#d8576b"
             ],
             [
              0.6666666666666666,
              "#ed7953"
             ],
             [
              0.7777777777777778,
              "#fb9f3a"
             ],
             [
              0.8888888888888888,
              "#fdca26"
             ],
             [
              1,
              "#f0f921"
             ]
            ],
            "type": "contour"
           }
          ],
          "contourcarpet": [
           {
            "colorbar": {
             "outlinewidth": 0,
             "ticks": ""
            },
            "type": "contourcarpet"
           }
          ],
          "heatmap": [
           {
            "colorbar": {
             "outlinewidth": 0,
             "ticks": ""
            },
            "colorscale": [
             [
              0,
              "#0d0887"
             ],
             [
              0.1111111111111111,
              "#46039f"
             ],
             [
              0.2222222222222222,
              "#7201a8"
             ],
             [
              0.3333333333333333,
              "#9c179e"
             ],
             [
              0.4444444444444444,
              "#bd3786"
             ],
             [
              0.5555555555555556,
              "#d8576b"
             ],
             [
              0.6666666666666666,
              "#ed7953"
             ],
             [
              0.7777777777777778,
              "#fb9f3a"
             ],
             [
              0.8888888888888888,
              "#fdca26"
             ],
             [
              1,
              "#f0f921"
             ]
            ],
            "type": "heatmap"
           }
          ],
          "heatmapgl": [
           {
            "colorbar": {
             "outlinewidth": 0,
             "ticks": ""
            },
            "colorscale": [
             [
              0,
              "#0d0887"
             ],
             [
              0.1111111111111111,
              "#46039f"
             ],
             [
              0.2222222222222222,
              "#7201a8"
             ],
             [
              0.3333333333333333,
              "#9c179e"
             ],
             [
              0.4444444444444444,
              "#bd3786"
             ],
             [
              0.5555555555555556,
              "#d8576b"
             ],
             [
              0.6666666666666666,
              "#ed7953"
             ],
             [
              0.7777777777777778,
              "#fb9f3a"
             ],
             [
              0.8888888888888888,
              "#fdca26"
             ],
             [
              1,
              "#f0f921"
             ]
            ],
            "type": "heatmapgl"
           }
          ],
          "histogram": [
           {
            "marker": {
             "pattern": {
              "fillmode": "overlay",
              "size": 10,
              "solidity": 0.2
             }
            },
            "type": "histogram"
           }
          ],
          "histogram2d": [
           {
            "colorbar": {
             "outlinewidth": 0,
             "ticks": ""
            },
            "colorscale": [
             [
              0,
              "#0d0887"
             ],
             [
              0.1111111111111111,
              "#46039f"
             ],
             [
              0.2222222222222222,
              "#7201a8"
             ],
             [
              0.3333333333333333,
              "#9c179e"
             ],
             [
              0.4444444444444444,
              "#bd3786"
             ],
             [
              0.5555555555555556,
              "#d8576b"
             ],
             [
              0.6666666666666666,
              "#ed7953"
             ],
             [
              0.7777777777777778,
              "#fb9f3a"
             ],
             [
              0.8888888888888888,
              "#fdca26"
             ],
             [
              1,
              "#f0f921"
             ]
            ],
            "type": "histogram2d"
           }
          ],
          "histogram2dcontour": [
           {
            "colorbar": {
             "outlinewidth": 0,
             "ticks": ""
            },
            "colorscale": [
             [
              0,
              "#0d0887"
             ],
             [
              0.1111111111111111,
              "#46039f"
             ],
             [
              0.2222222222222222,
              "#7201a8"
             ],
             [
              0.3333333333333333,
              "#9c179e"
             ],
             [
              0.4444444444444444,
              "#bd3786"
             ],
             [
              0.5555555555555556,
              "#d8576b"
             ],
             [
              0.6666666666666666,
              "#ed7953"
             ],
             [
              0.7777777777777778,
              "#fb9f3a"
             ],
             [
              0.8888888888888888,
              "#fdca26"
             ],
             [
              1,
              "#f0f921"
             ]
            ],
            "type": "histogram2dcontour"
           }
          ],
          "mesh3d": [
           {
            "colorbar": {
             "outlinewidth": 0,
             "ticks": ""
            },
            "type": "mesh3d"
           }
          ],
          "parcoords": [
           {
            "line": {
             "colorbar": {
              "outlinewidth": 0,
              "ticks": ""
             }
            },
            "type": "parcoords"
           }
          ],
          "pie": [
           {
            "automargin": true,
            "type": "pie"
           }
          ],
          "scatter": [
           {
            "marker": {
             "colorbar": {
              "outlinewidth": 0,
              "ticks": ""
             }
            },
            "type": "scatter"
           }
          ],
          "scatter3d": [
           {
            "line": {
             "colorbar": {
              "outlinewidth": 0,
              "ticks": ""
             }
            },
            "marker": {
             "colorbar": {
              "outlinewidth": 0,
              "ticks": ""
             }
            },
            "type": "scatter3d"
           }
          ],
          "scattercarpet": [
           {
            "marker": {
             "colorbar": {
              "outlinewidth": 0,
              "ticks": ""
             }
            },
            "type": "scattercarpet"
           }
          ],
          "scattergeo": [
           {
            "marker": {
             "colorbar": {
              "outlinewidth": 0,
              "ticks": ""
             }
            },
            "type": "scattergeo"
           }
          ],
          "scattergl": [
           {
            "marker": {
             "colorbar": {
              "outlinewidth": 0,
              "ticks": ""
             }
            },
            "type": "scattergl"
           }
          ],
          "scattermapbox": [
           {
            "marker": {
             "colorbar": {
              "outlinewidth": 0,
              "ticks": ""
             }
            },
            "type": "scattermapbox"
           }
          ],
          "scatterpolar": [
           {
            "marker": {
             "colorbar": {
              "outlinewidth": 0,
              "ticks": ""
             }
            },
            "type": "scatterpolar"
           }
          ],
          "scatterpolargl": [
           {
            "marker": {
             "colorbar": {
              "outlinewidth": 0,
              "ticks": ""
             }
            },
            "type": "scatterpolargl"
           }
          ],
          "scatterternary": [
           {
            "marker": {
             "colorbar": {
              "outlinewidth": 0,
              "ticks": ""
             }
            },
            "type": "scatterternary"
           }
          ],
          "surface": [
           {
            "colorbar": {
             "outlinewidth": 0,
             "ticks": ""
            },
            "colorscale": [
             [
              0,
              "#0d0887"
             ],
             [
              0.1111111111111111,
              "#46039f"
             ],
             [
              0.2222222222222222,
              "#7201a8"
             ],
             [
              0.3333333333333333,
              "#9c179e"
             ],
             [
              0.4444444444444444,
              "#bd3786"
             ],
             [
              0.5555555555555556,
              "#d8576b"
             ],
             [
              0.6666666666666666,
              "#ed7953"
             ],
             [
              0.7777777777777778,
              "#fb9f3a"
             ],
             [
              0.8888888888888888,
              "#fdca26"
             ],
             [
              1,
              "#f0f921"
             ]
            ],
            "type": "surface"
           }
          ],
          "table": [
           {
            "cells": {
             "fill": {
              "color": "#EBF0F8"
             },
             "line": {
              "color": "white"
             }
            },
            "header": {
             "fill": {
              "color": "#C8D4E3"
             },
             "line": {
              "color": "white"
             }
            },
            "type": "table"
           }
          ]
         },
         "layout": {
          "annotationdefaults": {
           "arrowcolor": "#2a3f5f",
           "arrowhead": 0,
           "arrowwidth": 1
          },
          "autotypenumbers": "strict",
          "coloraxis": {
           "colorbar": {
            "outlinewidth": 0,
            "ticks": ""
           }
          },
          "colorscale": {
           "diverging": [
            [
             0,
             "#8e0152"
            ],
            [
             0.1,
             "#c51b7d"
            ],
            [
             0.2,
             "#de77ae"
            ],
            [
             0.3,
             "#f1b6da"
            ],
            [
             0.4,
             "#fde0ef"
            ],
            [
             0.5,
             "#f7f7f7"
            ],
            [
             0.6,
             "#e6f5d0"
            ],
            [
             0.7,
             "#b8e186"
            ],
            [
             0.8,
             "#7fbc41"
            ],
            [
             0.9,
             "#4d9221"
            ],
            [
             1,
             "#276419"
            ]
           ],
           "sequential": [
            [
             0,
             "#0d0887"
            ],
            [
             0.1111111111111111,
             "#46039f"
            ],
            [
             0.2222222222222222,
             "#7201a8"
            ],
            [
             0.3333333333333333,
             "#9c179e"
            ],
            [
             0.4444444444444444,
             "#bd3786"
            ],
            [
             0.5555555555555556,
             "#d8576b"
            ],
            [
             0.6666666666666666,
             "#ed7953"
            ],
            [
             0.7777777777777778,
             "#fb9f3a"
            ],
            [
             0.8888888888888888,
             "#fdca26"
            ],
            [
             1,
             "#f0f921"
            ]
           ],
           "sequentialminus": [
            [
             0,
             "#0d0887"
            ],
            [
             0.1111111111111111,
             "#46039f"
            ],
            [
             0.2222222222222222,
             "#7201a8"
            ],
            [
             0.3333333333333333,
             "#9c179e"
            ],
            [
             0.4444444444444444,
             "#bd3786"
            ],
            [
             0.5555555555555556,
             "#d8576b"
            ],
            [
             0.6666666666666666,
             "#ed7953"
            ],
            [
             0.7777777777777778,
             "#fb9f3a"
            ],
            [
             0.8888888888888888,
             "#fdca26"
            ],
            [
             1,
             "#f0f921"
            ]
           ]
          },
          "colorway": [
           "#636efa",
           "#EF553B",
           "#00cc96",
           "#ab63fa",
           "#FFA15A",
           "#19d3f3",
           "#FF6692",
           "#B6E880",
           "#FF97FF",
           "#FECB52"
          ],
          "font": {
           "color": "#2a3f5f"
          },
          "geo": {
           "bgcolor": "white",
           "lakecolor": "white",
           "landcolor": "#E5ECF6",
           "showlakes": true,
           "showland": true,
           "subunitcolor": "white"
          },
          "hoverlabel": {
           "align": "left"
          },
          "hovermode": "closest",
          "mapbox": {
           "style": "light"
          },
          "paper_bgcolor": "white",
          "plot_bgcolor": "#E5ECF6",
          "polar": {
           "angularaxis": {
            "gridcolor": "white",
            "linecolor": "white",
            "ticks": ""
           },
           "bgcolor": "#E5ECF6",
           "radialaxis": {
            "gridcolor": "white",
            "linecolor": "white",
            "ticks": ""
           }
          },
          "scene": {
           "xaxis": {
            "backgroundcolor": "#E5ECF6",
            "gridcolor": "white",
            "gridwidth": 2,
            "linecolor": "white",
            "showbackground": true,
            "ticks": "",
            "zerolinecolor": "white"
           },
           "yaxis": {
            "backgroundcolor": "#E5ECF6",
            "gridcolor": "white",
            "gridwidth": 2,
            "linecolor": "white",
            "showbackground": true,
            "ticks": "",
            "zerolinecolor": "white"
           },
           "zaxis": {
            "backgroundcolor": "#E5ECF6",
            "gridcolor": "white",
            "gridwidth": 2,
            "linecolor": "white",
            "showbackground": true,
            "ticks": "",
            "zerolinecolor": "white"
           }
          },
          "shapedefaults": {
           "line": {
            "color": "#2a3f5f"
           }
          },
          "ternary": {
           "aaxis": {
            "gridcolor": "white",
            "linecolor": "white",
            "ticks": ""
           },
           "baxis": {
            "gridcolor": "white",
            "linecolor": "white",
            "ticks": ""
           },
           "bgcolor": "#E5ECF6",
           "caxis": {
            "gridcolor": "white",
            "linecolor": "white",
            "ticks": ""
           }
          },
          "title": {
           "x": 0.05
          },
          "xaxis": {
           "automargin": true,
           "gridcolor": "white",
           "linecolor": "white",
           "ticks": "",
           "title": {
            "standoff": 15
           },
           "zerolinecolor": "white",
           "zerolinewidth": 2
          },
          "yaxis": {
           "automargin": true,
           "gridcolor": "white",
           "linecolor": "white",
           "ticks": "",
           "title": {
            "standoff": 15
           },
           "zerolinecolor": "white",
           "zerolinewidth": 2
          }
         }
        }
       }
      }
     },
     "metadata": {},
     "output_type": "display_data"
    }
   ],
   "source": [
    "import plotly.graph_objects as go\n",
    "import numpy as np\n",
    "\n",
    "labels = ['Aprovados', 'Reprovados', 'Abandono', 'Concluintes', 'Transferidos', 'Falecidos', 'Não comparecidos', 'Excluido', 'Cessado', 'Remanejado', 'Reclassificado', 'Ativo']\n",
    "situacaoAluno = []\n",
    "\n",
    "situacaoAluno.append(np.sum(y['SIT_AL_APROV']))\n",
    "situacaoAluno.append(np.sum(y['SIT_AL_REPROV']))\n",
    "situacaoAluno.append(np.sum(y['SIT_AL_ABAND']))\n",
    "situacaoAluno.append(np.sum(y['SIT_AL_CONCL']))\n",
    "situacaoAluno.append(np.sum(y['SIT_AL_TRANSF']))\n",
    "situacaoAluno.append(np.sum(y['SIT_AL_FALEC']))\n",
    "situacaoAluno.append(np.sum(y['SIT_AL_NCOM']))\n",
    "situacaoAluno.append(np.sum(y['SIT_AL_EXCL']))\n",
    "situacaoAluno.append(np.sum(y['SIT_AL_CES']))\n",
    "situacaoAluno.append(np.sum(y['SIT_AL_REMAN']))\n",
    "situacaoAluno.append(np.sum(y['SIT_AL_RECLAS']))\n",
    "situacaoAluno.append(np.sum(y['SIT_AL_ATIVO']))\n",
    "\n",
    "fig = go.Figure(data=[go.Pie(labels=labels, values=situacaoAluno)])\n",
    "fig.show()\n"
   ]
  },
  {
   "cell_type": "code",
   "execution_count": 43,
   "metadata": {},
   "outputs": [
    {
     "data": {
      "application/vnd.plotly.v1+json": {
       "config": {
        "plotlyServerURL": "https://plot.ly"
       },
       "data": [
        {
         "labels": [
          "Superdotação",
          "Autismo",
          "Surdez leve",
          "Surdez severa",
          "Interlectual",
          "Multipla",
          "Cegueira",
          "Baixa visão",
          "Surdo Cegueira",
          "Transtorno degenerativo",
          "Aspeger",
          "Rett",
          "Fisica não cadeirante",
          "Fisica cadeirante",
          "Não possui"
         ],
         "type": "pie",
         "values": [
          1,
          56,
          6,
          19,
          109,
          34,
          3,
          17,
          0,
          2,
          2,
          1,
          59,
          30,
          41660
         ]
        }
       ],
       "layout": {
        "template": {
         "data": {
          "bar": [
           {
            "error_x": {
             "color": "#2a3f5f"
            },
            "error_y": {
             "color": "#2a3f5f"
            },
            "marker": {
             "line": {
              "color": "#E5ECF6",
              "width": 0.5
             },
             "pattern": {
              "fillmode": "overlay",
              "size": 10,
              "solidity": 0.2
             }
            },
            "type": "bar"
           }
          ],
          "barpolar": [
           {
            "marker": {
             "line": {
              "color": "#E5ECF6",
              "width": 0.5
             },
             "pattern": {
              "fillmode": "overlay",
              "size": 10,
              "solidity": 0.2
             }
            },
            "type": "barpolar"
           }
          ],
          "carpet": [
           {
            "aaxis": {
             "endlinecolor": "#2a3f5f",
             "gridcolor": "white",
             "linecolor": "white",
             "minorgridcolor": "white",
             "startlinecolor": "#2a3f5f"
            },
            "baxis": {
             "endlinecolor": "#2a3f5f",
             "gridcolor": "white",
             "linecolor": "white",
             "minorgridcolor": "white",
             "startlinecolor": "#2a3f5f"
            },
            "type": "carpet"
           }
          ],
          "choropleth": [
           {
            "colorbar": {
             "outlinewidth": 0,
             "ticks": ""
            },
            "type": "choropleth"
           }
          ],
          "contour": [
           {
            "colorbar": {
             "outlinewidth": 0,
             "ticks": ""
            },
            "colorscale": [
             [
              0,
              "#0d0887"
             ],
             [
              0.1111111111111111,
              "#46039f"
             ],
             [
              0.2222222222222222,
              "#7201a8"
             ],
             [
              0.3333333333333333,
              "#9c179e"
             ],
             [
              0.4444444444444444,
              "#bd3786"
             ],
             [
              0.5555555555555556,
              "#d8576b"
             ],
             [
              0.6666666666666666,
              "#ed7953"
             ],
             [
              0.7777777777777778,
              "#fb9f3a"
             ],
             [
              0.8888888888888888,
              "#fdca26"
             ],
             [
              1,
              "#f0f921"
             ]
            ],
            "type": "contour"
           }
          ],
          "contourcarpet": [
           {
            "colorbar": {
             "outlinewidth": 0,
             "ticks": ""
            },
            "type": "contourcarpet"
           }
          ],
          "heatmap": [
           {
            "colorbar": {
             "outlinewidth": 0,
             "ticks": ""
            },
            "colorscale": [
             [
              0,
              "#0d0887"
             ],
             [
              0.1111111111111111,
              "#46039f"
             ],
             [
              0.2222222222222222,
              "#7201a8"
             ],
             [
              0.3333333333333333,
              "#9c179e"
             ],
             [
              0.4444444444444444,
              "#bd3786"
             ],
             [
              0.5555555555555556,
              "#d8576b"
             ],
             [
              0.6666666666666666,
              "#ed7953"
             ],
             [
              0.7777777777777778,
              "#fb9f3a"
             ],
             [
              0.8888888888888888,
              "#fdca26"
             ],
             [
              1,
              "#f0f921"
             ]
            ],
            "type": "heatmap"
           }
          ],
          "heatmapgl": [
           {
            "colorbar": {
             "outlinewidth": 0,
             "ticks": ""
            },
            "colorscale": [
             [
              0,
              "#0d0887"
             ],
             [
              0.1111111111111111,
              "#46039f"
             ],
             [
              0.2222222222222222,
              "#7201a8"
             ],
             [
              0.3333333333333333,
              "#9c179e"
             ],
             [
              0.4444444444444444,
              "#bd3786"
             ],
             [
              0.5555555555555556,
              "#d8576b"
             ],
             [
              0.6666666666666666,
              "#ed7953"
             ],
             [
              0.7777777777777778,
              "#fb9f3a"
             ],
             [
              0.8888888888888888,
              "#fdca26"
             ],
             [
              1,
              "#f0f921"
             ]
            ],
            "type": "heatmapgl"
           }
          ],
          "histogram": [
           {
            "marker": {
             "pattern": {
              "fillmode": "overlay",
              "size": 10,
              "solidity": 0.2
             }
            },
            "type": "histogram"
           }
          ],
          "histogram2d": [
           {
            "colorbar": {
             "outlinewidth": 0,
             "ticks": ""
            },
            "colorscale": [
             [
              0,
              "#0d0887"
             ],
             [
              0.1111111111111111,
              "#46039f"
             ],
             [
              0.2222222222222222,
              "#7201a8"
             ],
             [
              0.3333333333333333,
              "#9c179e"
             ],
             [
              0.4444444444444444,
              "#bd3786"
             ],
             [
              0.5555555555555556,
              "#d8576b"
             ],
             [
              0.6666666666666666,
              "#ed7953"
             ],
             [
              0.7777777777777778,
              "#fb9f3a"
             ],
             [
              0.8888888888888888,
              "#fdca26"
             ],
             [
              1,
              "#f0f921"
             ]
            ],
            "type": "histogram2d"
           }
          ],
          "histogram2dcontour": [
           {
            "colorbar": {
             "outlinewidth": 0,
             "ticks": ""
            },
            "colorscale": [
             [
              0,
              "#0d0887"
             ],
             [
              0.1111111111111111,
              "#46039f"
             ],
             [
              0.2222222222222222,
              "#7201a8"
             ],
             [
              0.3333333333333333,
              "#9c179e"
             ],
             [
              0.4444444444444444,
              "#bd3786"
             ],
             [
              0.5555555555555556,
              "#d8576b"
             ],
             [
              0.6666666666666666,
              "#ed7953"
             ],
             [
              0.7777777777777778,
              "#fb9f3a"
             ],
             [
              0.8888888888888888,
              "#fdca26"
             ],
             [
              1,
              "#f0f921"
             ]
            ],
            "type": "histogram2dcontour"
           }
          ],
          "mesh3d": [
           {
            "colorbar": {
             "outlinewidth": 0,
             "ticks": ""
            },
            "type": "mesh3d"
           }
          ],
          "parcoords": [
           {
            "line": {
             "colorbar": {
              "outlinewidth": 0,
              "ticks": ""
             }
            },
            "type": "parcoords"
           }
          ],
          "pie": [
           {
            "automargin": true,
            "type": "pie"
           }
          ],
          "scatter": [
           {
            "marker": {
             "colorbar": {
              "outlinewidth": 0,
              "ticks": ""
             }
            },
            "type": "scatter"
           }
          ],
          "scatter3d": [
           {
            "line": {
             "colorbar": {
              "outlinewidth": 0,
              "ticks": ""
             }
            },
            "marker": {
             "colorbar": {
              "outlinewidth": 0,
              "ticks": ""
             }
            },
            "type": "scatter3d"
           }
          ],
          "scattercarpet": [
           {
            "marker": {
             "colorbar": {
              "outlinewidth": 0,
              "ticks": ""
             }
            },
            "type": "scattercarpet"
           }
          ],
          "scattergeo": [
           {
            "marker": {
             "colorbar": {
              "outlinewidth": 0,
              "ticks": ""
             }
            },
            "type": "scattergeo"
           }
          ],
          "scattergl": [
           {
            "marker": {
             "colorbar": {
              "outlinewidth": 0,
              "ticks": ""
             }
            },
            "type": "scattergl"
           }
          ],
          "scattermapbox": [
           {
            "marker": {
             "colorbar": {
              "outlinewidth": 0,
              "ticks": ""
             }
            },
            "type": "scattermapbox"
           }
          ],
          "scatterpolar": [
           {
            "marker": {
             "colorbar": {
              "outlinewidth": 0,
              "ticks": ""
             }
            },
            "type": "scatterpolar"
           }
          ],
          "scatterpolargl": [
           {
            "marker": {
             "colorbar": {
              "outlinewidth": 0,
              "ticks": ""
             }
            },
            "type": "scatterpolargl"
           }
          ],
          "scatterternary": [
           {
            "marker": {
             "colorbar": {
              "outlinewidth": 0,
              "ticks": ""
             }
            },
            "type": "scatterternary"
           }
          ],
          "surface": [
           {
            "colorbar": {
             "outlinewidth": 0,
             "ticks": ""
            },
            "colorscale": [
             [
              0,
              "#0d0887"
             ],
             [
              0.1111111111111111,
              "#46039f"
             ],
             [
              0.2222222222222222,
              "#7201a8"
             ],
             [
              0.3333333333333333,
              "#9c179e"
             ],
             [
              0.4444444444444444,
              "#bd3786"
             ],
             [
              0.5555555555555556,
              "#d8576b"
             ],
             [
              0.6666666666666666,
              "#ed7953"
             ],
             [
              0.7777777777777778,
              "#fb9f3a"
             ],
             [
              0.8888888888888888,
              "#fdca26"
             ],
             [
              1,
              "#f0f921"
             ]
            ],
            "type": "surface"
           }
          ],
          "table": [
           {
            "cells": {
             "fill": {
              "color": "#EBF0F8"
             },
             "line": {
              "color": "white"
             }
            },
            "header": {
             "fill": {
              "color": "#C8D4E3"
             },
             "line": {
              "color": "white"
             }
            },
            "type": "table"
           }
          ]
         },
         "layout": {
          "annotationdefaults": {
           "arrowcolor": "#2a3f5f",
           "arrowhead": 0,
           "arrowwidth": 1
          },
          "autotypenumbers": "strict",
          "coloraxis": {
           "colorbar": {
            "outlinewidth": 0,
            "ticks": ""
           }
          },
          "colorscale": {
           "diverging": [
            [
             0,
             "#8e0152"
            ],
            [
             0.1,
             "#c51b7d"
            ],
            [
             0.2,
             "#de77ae"
            ],
            [
             0.3,
             "#f1b6da"
            ],
            [
             0.4,
             "#fde0ef"
            ],
            [
             0.5,
             "#f7f7f7"
            ],
            [
             0.6,
             "#e6f5d0"
            ],
            [
             0.7,
             "#b8e186"
            ],
            [
             0.8,
             "#7fbc41"
            ],
            [
             0.9,
             "#4d9221"
            ],
            [
             1,
             "#276419"
            ]
           ],
           "sequential": [
            [
             0,
             "#0d0887"
            ],
            [
             0.1111111111111111,
             "#46039f"
            ],
            [
             0.2222222222222222,
             "#7201a8"
            ],
            [
             0.3333333333333333,
             "#9c179e"
            ],
            [
             0.4444444444444444,
             "#bd3786"
            ],
            [
             0.5555555555555556,
             "#d8576b"
            ],
            [
             0.6666666666666666,
             "#ed7953"
            ],
            [
             0.7777777777777778,
             "#fb9f3a"
            ],
            [
             0.8888888888888888,
             "#fdca26"
            ],
            [
             1,
             "#f0f921"
            ]
           ],
           "sequentialminus": [
            [
             0,
             "#0d0887"
            ],
            [
             0.1111111111111111,
             "#46039f"
            ],
            [
             0.2222222222222222,
             "#7201a8"
            ],
            [
             0.3333333333333333,
             "#9c179e"
            ],
            [
             0.4444444444444444,
             "#bd3786"
            ],
            [
             0.5555555555555556,
             "#d8576b"
            ],
            [
             0.6666666666666666,
             "#ed7953"
            ],
            [
             0.7777777777777778,
             "#fb9f3a"
            ],
            [
             0.8888888888888888,
             "#fdca26"
            ],
            [
             1,
             "#f0f921"
            ]
           ]
          },
          "colorway": [
           "#636efa",
           "#EF553B",
           "#00cc96",
           "#ab63fa",
           "#FFA15A",
           "#19d3f3",
           "#FF6692",
           "#B6E880",
           "#FF97FF",
           "#FECB52"
          ],
          "font": {
           "color": "#2a3f5f"
          },
          "geo": {
           "bgcolor": "white",
           "lakecolor": "white",
           "landcolor": "#E5ECF6",
           "showlakes": true,
           "showland": true,
           "subunitcolor": "white"
          },
          "hoverlabel": {
           "align": "left"
          },
          "hovermode": "closest",
          "mapbox": {
           "style": "light"
          },
          "paper_bgcolor": "white",
          "plot_bgcolor": "#E5ECF6",
          "polar": {
           "angularaxis": {
            "gridcolor": "white",
            "linecolor": "white",
            "ticks": ""
           },
           "bgcolor": "#E5ECF6",
           "radialaxis": {
            "gridcolor": "white",
            "linecolor": "white",
            "ticks": ""
           }
          },
          "scene": {
           "xaxis": {
            "backgroundcolor": "#E5ECF6",
            "gridcolor": "white",
            "gridwidth": 2,
            "linecolor": "white",
            "showbackground": true,
            "ticks": "",
            "zerolinecolor": "white"
           },
           "yaxis": {
            "backgroundcolor": "#E5ECF6",
            "gridcolor": "white",
            "gridwidth": 2,
            "linecolor": "white",
            "showbackground": true,
            "ticks": "",
            "zerolinecolor": "white"
           },
           "zaxis": {
            "backgroundcolor": "#E5ECF6",
            "gridcolor": "white",
            "gridwidth": 2,
            "linecolor": "white",
            "showbackground": true,
            "ticks": "",
            "zerolinecolor": "white"
           }
          },
          "shapedefaults": {
           "line": {
            "color": "#2a3f5f"
           }
          },
          "ternary": {
           "aaxis": {
            "gridcolor": "white",
            "linecolor": "white",
            "ticks": ""
           },
           "baxis": {
            "gridcolor": "white",
            "linecolor": "white",
            "ticks": ""
           },
           "bgcolor": "#E5ECF6",
           "caxis": {
            "gridcolor": "white",
            "linecolor": "white",
            "ticks": ""
           }
          },
          "title": {
           "x": 0.05
          },
          "xaxis": {
           "automargin": true,
           "gridcolor": "white",
           "linecolor": "white",
           "ticks": "",
           "title": {
            "standoff": 15
           },
           "zerolinecolor": "white",
           "zerolinewidth": 2
          },
          "yaxis": {
           "automargin": true,
           "gridcolor": "white",
           "linecolor": "white",
           "ticks": "",
           "title": {
            "standoff": 15
           },
           "zerolinecolor": "white",
           "zerolinewidth": 2
          }
         }
        }
       }
      }
     },
     "metadata": {},
     "output_type": "display_data"
    }
   ],
   "source": [
    "labels = ['Superdotação', 'Autismo', 'Surdez leve', 'Surdez severa', 'Interlectual', 'Multipla', 'Cegueira', 'Baixa visão', 'Surdo Cegueira', 'Transtorno degenerativo', 'Aspeger', 'Rett', 'Fisica não cadeirante', 'Fisica cadeirante', 'Não possui']\n",
    "doencaAluno = []\n",
    "\n",
    "doencaAluno.append(np.sum(y['NEE_ALT_HAB']))\n",
    "doencaAluno.append(np.sum(y['DEF__AUTISMO']))\n",
    "doencaAluno.append(np.sum(y['DEF__SURDEZ_LEVE']))\n",
    "doencaAluno.append(np.sum(y['DEF__SURDEZ_SEV']))\n",
    "doencaAluno.append(np.sum(y['DEF__INTELECT']))\n",
    "doencaAluno.append(np.sum(y['DEF__MULTIPLA']))\n",
    "doencaAluno.append(np.sum(y['DEF__CEGUEIRA']))\n",
    "doencaAluno.append(np.sum(y['DEF__BAIXA_VISAO']))\n",
    "doencaAluno.append(np.sum(y['DEF__SURDO_CEG']))\n",
    "doencaAluno.append(np.sum(y['DEF__TRANST_DES_INF']))\n",
    "doencaAluno.append(np.sum(y['DEF__SINDR_ASPER']))\n",
    "doencaAluno.append(np.sum(y['DEF__SINDR_RETT']))\n",
    "doencaAluno.append(np.sum(y['DEF__FIS_N_CADEIR']))\n",
    "doencaAluno.append(np.sum(y['DEF__FIS_CADEIR']))\n",
    "doencaAluno.append(np.sum(y['DEF__N_POSSUI']))\n",
    "\n",
    "fig = go.Figure(data=[go.Pie(labels=labels, values=doencaAluno)])\n",
    "fig.show()\n"
   ]
  }
 ],
 "metadata": {
  "interpreter": {
   "hash": "a01cbe3509f40fe8fbb70f6e35a414a4aeac5b623ad71bdf179810de598dc153"
  },
  "kernelspec": {
   "display_name": "Python 3.9.7 64-bit",
   "name": "python3"
  },
  "language_info": {
   "codemirror_mode": {
    "name": "ipython",
    "version": 3
   },
   "file_extension": ".py",
   "mimetype": "text/x-python",
   "name": "python",
   "nbconvert_exporter": "python",
   "pygments_lexer": "ipython3",
   "version": "3.9.7"
  }
 },
 "nbformat": 4,
 "nbformat_minor": 5
}
